{
 "cells": [
  {
   "cell_type": "markdown",
   "metadata": {},
   "source": [
    "DAY 21 FUNCTION ARGUMENT"
   ]
  },
  {
   "cell_type": "code",
   "execution_count": 20,
   "metadata": {},
   "outputs": [
    {
     "name": "stdout",
     "output_type": "stream",
     "text": [
      "Average is:  6.25\n",
      "<class 'dict'>\n",
      "hello dua e qirat shah\n"
     ]
    }
   ],
   "source": [
    "def average(*numbers):\n",
    "  # print(type(numbers))\n",
    "  sum = 0\n",
    "  for i in numbers:\n",
    "    sum = sum + i\n",
    "    \n",
    "  print(\"Average is: \", sum / len(numbers))\n",
    "# average (4, 6)\n",
    "\n",
    "\n",
    "    # average (4, 6)\n",
    " #average(b=9)\n",
    "\n",
    "c = average(5, 6, 6, 8)\n",
    "\n",
    "\n",
    "def name(**name):\n",
    "  print(type(name))\n",
    "  print(\"hello\", name[\"fname\"], name[\"mname\"], name[\"lname\"])\n",
    "name(fname = \"dua\", mname = \"e qirat\", lname = \"shah\")\n",
    " \n",
    " "
   ]
  },
  {
   "cell_type": "markdown",
   "metadata": {},
   "source": [
    "DAY 22 INTRO TO LISTS"
   ]
  },
  {
   "cell_type": "code",
   "execution_count": 61,
   "metadata": {},
   "outputs": [
    {
     "name": "stdout",
     "output_type": "stream",
     "text": [
      "5\n",
      "['miss', 'mr', 'mrs']\n",
      "adault\n",
      "[]\n",
      "please leave\n"
     ]
    }
   ],
   "source": [
    "list = ['miss', 'mr', 'mrs', 'child', 'adault']\n",
    "print(len(list))\n",
    "\n",
    "print(list[0:3])\n",
    "print(list[4])\n",
    "\n",
    "print(list[-2:-3])\n",
    "\n",
    "name=input()\n",
    "if 'mr1' in list:\n",
    " print(\"write your name\", 'mr', name)\n",
    "else:\n",
    " print(\"please leave\")\n",
    "\n"
   ]
  },
  {
   "cell_type": "markdown",
   "metadata": {},
   "source": [
    "DAY 23 LIST METHODS"
   ]
  },
  {
   "cell_type": "code",
   "execution_count": null,
   "metadata": {},
   "outputs": [],
   "source": [
    "fruits = ['apple', 'banana', 'cherry']\n",
    "\n",
    "# Append an element to the end\n",
    "fruits.append('date')\n",
    "\n",
    "# Insert an element \n",
    "fruits.insert(1, 'orange')\n",
    "\n",
    "# Remove the first occurrence \n",
    "fruits.remove('banana')\n",
    "\n",
    "\n",
    "# Remove an element by index\n",
    "del fruits[0]\n",
    "\n",
    "# Extend the list\n",
    "fruits.extend(['grape', 'kiwi'])\n",
    "\n",
    "# Clear all elements from the list\n",
    "fruits.clear()\n",
    "\n",
    "# # index of the first occurrence of a value\n",
    "fruits= fruits.index('cherry')\n",
    "\n",
    "# Count occurrences of a value\n",
    "count = fruits.count('banana')\n",
    "\n",
    "# Sort (ascending by default)\n",
    "fruits.sort()\n",
    "\n",
    "# # Reverse the elements \n",
    "fruits.reverse()\n",
    "\n",
    "print(fruits)"
   ]
  },
  {
   "cell_type": "markdown",
   "metadata": {},
   "source": [
    "DAY 24 TUPLE"
   ]
  },
  {
   "cell_type": "code",
   "execution_count": 55,
   "metadata": {},
   "outputs": [
    {
     "name": "stdout",
     "output_type": "stream",
     "text": [
      "<class 'tuple'> (1, 2, 78, 89, 0)\n",
      "True\n",
      "(89,)\n",
      "no\n"
     ]
    }
   ],
   "source": [
    "tuple1 = (1, 2, 78, 89, 0)\n",
    "tuple2 = ('DUA', 'SHAH', True)\n",
    "\n",
    "print(type(tuple1),tuple1)\n",
    "\n",
    "# index of tuple\n",
    "print(tuple2[2])\n",
    "\n",
    "# negative index\n",
    "print(tuple1[-2:4])\n",
    "\n",
    "\n",
    "# slicing\n",
    "# if 'SHAH' in tuple2:\n",
    "if 'SHAH1' in tuple2:\n",
    " print(\"yes\")\n",
    "else:\n",
    " print('no')\n",
    " \n"
   ]
  },
  {
   "cell_type": "markdown",
   "metadata": {},
   "source": [
    "DAY 25 OPERATION IN TUPLE"
   ]
  },
  {
   "cell_type": "code",
   "execution_count": 66,
   "metadata": {},
   "outputs": [
    {
     "name": "stdout",
     "output_type": "stream",
     "text": [
      "Concatenated tuple: (1, 2, 3, 4, 7, 2, 3, 8, 3, 2, 'a', 'b', 'c')\n",
      "Repeated tuple: (1, 2, 3, 4, 7, 2, 3, 8, 3, 2, 1, 2, 3, 4, 7, 2, 3, 8, 3, 2)\n",
      "Length of tuple1: 10\n",
      "Is 'a' in tuple2? True\n",
      "Is 'x' in tuple1? False\n",
      "Unpacked values: a b c\n",
      "Index of 'b' in tuple2: 1\n",
      "Index of '3' in tuple1: 6\n",
      "Count of 2 in tuple1: 3\n"
     ]
    }
   ],
   "source": [
    "tuple1 = (1, 2, 3, 4 ,7, 2, 3, 8, 3, 2)\n",
    "tuple2 = ('a', 'b', 'c')\n",
    "\n",
    "# Concatenation\n",
    "concatenated_tuple = tuple1 + tuple2\n",
    "print(\"Concatenated tuple:\", concatenated_tuple) \n",
    "\n",
    "# Repetition\n",
    "repeated_tuple = tuple1 * 2\n",
    "print(\"Repeated tuple:\", repeated_tuple) \n",
    "\n",
    "# Length of a tuple\n",
    "print(\"Length of tuple1:\", len(tuple1))\n",
    "\n",
    "# Checking membership\n",
    "print(\"Is 'a' in tuple2?\", 'a' in tuple2)  \n",
    "print(\"Is 'x' in tuple1?\", 'x' in tuple1)  \n",
    "\n",
    "# # Iterating through a tuple\n",
    "# for item in tuple1:\n",
    "#     print(item)\n",
    "\n",
    "# Tuple unpacking\n",
    "x, y, z = tuple2\n",
    "print(\"Unpacked values:\", x, y, z)  \n",
    "\n",
    "# Finding index \n",
    "\n",
    "\n",
    "index = tuple2.index('b')\n",
    "print(\"Index of 'b' in tuple2:\", index) \n",
    "\n",
    "index = tuple1.index(3, 4, 8)\n",
    "print(\"Index of '3' in tuple1:\", index) \n",
    "\n",
    "# Count occurrences \n",
    "count = tuple1.count(2)\n",
    "print(\"Count of 2 in tuple1:\", count) "
   ]
  },
  {
   "cell_type": "markdown",
   "metadata": {},
   "source": [
    "DAY 26 SOLUTION OF EXCERCISE 2 WHICH IS IN DAY 15"
   ]
  },
  {
   "cell_type": "markdown",
   "metadata": {},
   "source": [
    "DAY 27"
   ]
  },
  {
   "cell_type": "code",
   "execution_count": 2,
   "metadata": {},
   "outputs": [
    {
     "name": "stdout",
     "output_type": "stream",
     "text": [
      "\n",
      "\n",
      "Question for Rs. 1000\n",
      "a. Python          b. French \n",
      "c. JavaScript          d. Php \n",
      "Correct answer, you have won Rs. 1000\n",
      "\n",
      "\n",
      "Question for Rs. 2000\n",
      "a. Python          b. French \n",
      "c. JavaScript          d. Php \n",
      "Correct answer, you have won Rs. 2000\n",
      "\n",
      "\n",
      "Question for Rs. 3000\n",
      "a. Python          b. French \n",
      "c. JavaScript          d. Php \n",
      "Correct answer, you have won Rs. 3000\n",
      "\n",
      "\n",
      "Question for Rs. 5000\n",
      "a. Python          b. French \n",
      "c. JavaScript          d. Php \n",
      "Correct answer, you have won Rs. 5000\n",
      "\n",
      "\n",
      "Question for Rs. 10000\n",
      "a. Python          b. French \n",
      "c. JavaScript          d. Php \n",
      "Correct answer, you have won Rs. 10000\n",
      "Your take home money is 10000\n"
     ]
    }
   ],
   "source": [
    "questions = [\n",
    "  \n",
    "  \n",
    "  [\n",
    "    \"Which language was used to create fb?\", \"Python\", \"French\", \"JavaScript\",\n",
    "    \"Php\", \"None\", 4\n",
    "  ],\n",
    "  [\n",
    "    \"Which language was used to create fb?\", \"Python\", \"French\", \"JavaScript\",\n",
    "    \"Php\", \"None\", 4\n",
    "  ],\n",
    "  [\n",
    "    \"Which language was used to create fb?\", \"Python\", \"French\", \"JavaScript\",\n",
    "    \"Php\", \"None\", 4\n",
    "  ],\n",
    "  [\n",
    "    \"Which language was used to create fb?\", \"Python\", \"French\", \"JavaScript\",\n",
    "    \"Php\", \"None\", 4\n",
    "  ],\n",
    "  [\n",
    "    \"Which language was used to create fb?\", \"Python\", \"French\", \"JavaScript\",\n",
    "    \"Php\", \"None\", 4\n",
    "  ]\n",
    " \n",
    "]\n",
    "\n",
    "levels = [1000, 2000, 3000, 5000, 10000, 20000, 40000, 80000, 160000, 320000]\n",
    "money = 0\n",
    "for i in range(0, len(questions)):\n",
    "  \n",
    "  question = questions[i]\n",
    "  print(f\"\\n\\nQuestion for Rs. {levels[i]}\")\n",
    "  print(f\"a. {question[1]}          b. {question[2]} \")\n",
    "  print(f\"c. {question[3]}          d. {question[4]} \")\n",
    "  reply = int(input(\"Enter your answer (1-4) or  0 to quit:\\n\" ))\n",
    "  if (reply == 0):\n",
    "    money = levels[i-1]\n",
    "    break\n",
    "  if(reply == question[-1]):\n",
    "    print(f\"Correct answer, you have won Rs. {levels[i]}\")\n",
    "    if(i == 4):\n",
    "      money = 10000\n",
    "    elif(i == 9):\n",
    "      money = 320000\n",
    "    elif(i == 14):\n",
    "      money = 10000000\n",
    "  else:\n",
    "    print(\"Wrong answer!\")\n",
    "    break \n",
    "\n",
    "print(f\"Your take home money is {money}\")"
   ]
  },
  {
   "cell_type": "markdown",
   "metadata": {},
   "source": [
    "DAY 28 F STRING \n"
   ]
  },
  {
   "cell_type": "code",
   "execution_count": 14,
   "metadata": {},
   "outputs": [
    {
     "name": "stdout",
     "output_type": "stream",
     "text": [
      "the multiplication of 23 and 23 is 529 \n",
      "pass\n",
      "You have passed the exam with a score of 43.\n"
     ]
    }
   ],
   "source": [
    "# name = \"dua\"\n",
    "# age = 24\n",
    "# intro = f\"i am {name} and i am {age} years old\"\n",
    "# print(intro)\n",
    "\n",
    "\n",
    "num1 = int(input())\n",
    "num2 = int(input())\n",
    "ans = f\"the multiplication of {num1} and {num2} is {num1*num2} \"\n",
    "print(ans)\n",
    "\n",
    "\n",
    "\n",
    "score = int(input())\n",
    "if(score >= 40):\n",
    "    print(\"pass\")\n",
    "else:\n",
    "    print(\"fail\")\n",
    "statement= f\"You {'have' if score >=40 else 'have not'} passed the exam with a score of {score}.\"\n",
    "print(statement)\n"
   ]
  },
  {
   "cell_type": "markdown",
   "metadata": {},
   "source": [
    "DAY 29 DOCSTRING"
   ]
  },
  {
   "cell_type": "code",
   "execution_count": 39,
   "metadata": {},
   "outputs": [
    {
     "name": "stdout",
     "output_type": "stream",
     "text": [
      "15\n",
      "the answer will be cube of n \n",
      "15\n",
      "None\n"
     ]
    }
   ],
   "source": [
    "def cube(n):\n",
    "    '''the answer will be cube of n '''\n",
    "    print(n*3)\n",
    "cube(5)\n",
    "print(cube.__doc__)\n",
    "\n",
    "\n",
    "# doc is always after the def function\n",
    "\n",
    "def cube(n):\n",
    "     print(n*3)\n",
    "'''the answer will be cube of n '''\n",
    " \n",
    "cube(5)\n",
    "print(cube.__doc__)\n",
    "\n",
    "# pep 8\n",
    "# which is zen of python \"a poem\"\n",
    "# its work when we write import this in python\n",
    "\n",
    "\n"
   ]
  },
  {
   "cell_type": "markdown",
   "metadata": {},
   "source": [
    "DAY 30 RECURSION"
   ]
  },
  {
   "cell_type": "code",
   "execution_count": 58,
   "metadata": {},
   "outputs": [
    {
     "name": "stdout",
     "output_type": "stream",
     "text": [
      "3\n"
     ]
    }
   ],
   "source": [
    "# def factorial(n):\n",
    "#   if (n == 0 or n == 1):\n",
    "#     return 1\n",
    "#   else:\n",
    "#     return n * factorial(n - 1)\n",
    "\n",
    "\n",
    "# print(factorial(0))\n",
    "\n",
    "\n",
    "def fibonacci(n):\n",
    "  if n == 0:\n",
    "   return 0\n",
    "  elif n == 1:\n",
    "    return 1\n",
    "  else:\n",
    "    return fibonacci(n-1) + fibonacci(n-2)\n",
    "  \n",
    "\n",
    "print(fibonacci(4))"
   ]
  }
 ],
 "metadata": {
  "kernelspec": {
   "display_name": "Python 3",
   "language": "python",
   "name": "python3"
  },
  "language_info": {
   "codemirror_mode": {
    "name": "ipython",
    "version": 3
   },
   "file_extension": ".py",
   "mimetype": "text/x-python",
   "name": "python",
   "nbconvert_exporter": "python",
   "pygments_lexer": "ipython3",
   "version": "3.12.4"
  }
 },
 "nbformat": 4,
 "nbformat_minor": 2
}
