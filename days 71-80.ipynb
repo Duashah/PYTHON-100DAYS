{
 "cells": [
  {
   "cell_type": "markdown",
   "id": "1460fe30-61d4-419b-9454-be315cd31061",
   "metadata": {},
   "source": [
    "DAY 71 DIR DICT AND HELP MEETHODS"
   ]
  },
  {
   "cell_type": "code",
   "execution_count": 1,
   "id": "1f7b5cb5-8660-451b-aeba-2170277ed4e6",
   "metadata": {},
   "outputs": [
    {
     "name": "stdout",
     "output_type": "stream",
     "text": [
      "{'name': 'Dua', 'age': 24, 'version': 1}\n",
      "{'name': 'sara', 'age': 29, 'version': 1}\n",
      "Help on class Person in module __main__:\n",
      "\n",
      "class Person(builtins.object)\n",
      " |  Person(name, age)\n",
      " |\n",
      " |  Methods defined here:\n",
      " |\n",
      " |  __init__(self, name, age)\n",
      " |      Initialize self.  See help(type(self)) for accurate signature.\n",
      " |\n",
      " |  ----------------------------------------------------------------------\n",
      " |  Data descriptors defined here:\n",
      " |\n",
      " |  __dict__\n",
      " |      dictionary for instance variables\n",
      " |\n",
      " |  __weakref__\n",
      " |      list of weak references to the object\n",
      "\n",
      "None\n"
     ]
    }
   ],
   "source": [
    "#Methods to understands the logic of dic.\n",
    "\n",
    "class Person:\n",
    "  def __init__(self, name, age):\n",
    "      self.name = name\n",
    "      self.age = age\n",
    "      self.version = 1\n",
    "\n",
    "    \n",
    "p = Person(\"Dua\", 24)\n",
    "p1 = Person(\"sara\", 29)\n",
    "\n",
    "print(p.__dict__)\n",
    "\n",
    "print(p1.__dict__)\n",
    "\n",
    "print(help(Person)) # this will give the details of the class"
   ]
  },
  {
   "cell_type": "markdown",
   "id": "c253d437-095f-44c3-95ae-ba18a3e68511",
   "metadata": {},
   "source": [
    "DAY 72 SUPER KEYWORD"
   ]
  },
  {
   "cell_type": "code",
   "execution_count": 2,
   "id": "c0cb9af9-3474-427d-a6c1-1bc3057a4328",
   "metadata": {},
   "outputs": [
    {
     "name": "stdout",
     "output_type": "stream",
     "text": [
      "Sara khan\n",
      "134\n",
      "Python language\n"
     ]
    }
   ],
   "source": [
    "#uusing the super(), it helps to call methods from the parent class without call the name of parent class\n",
    "#example of super keyword\n",
    "class Engineer:\n",
    "  def __init__(self, name, id):\n",
    "    self.name = name\n",
    "    self.id = id\n",
    "\n",
    "class Field(Engineer):\n",
    "  def __init__(self, name, id, language):\n",
    "    super().__init__( name, id)\n",
    "    self.language = language\n",
    "\n",
    "#programmer class inherits from the class employee\n",
    "\n",
    "Dua = Engineer(\"Dua qirat\", \"120\")\n",
    "sara = Field(\"Sara khan\", \"134\", \"Python language\")\n",
    "\n",
    "print(sara.name)\n",
    "print(sara.id)\n",
    "print(sara.language)"
   ]
  },
  {
   "cell_type": "markdown",
   "id": "bdc98e37-f4a5-47c9-928b-cb692217065c",
   "metadata": {},
   "source": [
    "DAY 73 MAGIC DUNDER METHODS"
   ]
  },
  {
   "cell_type": "code",
   "execution_count": 3,
   "id": "c8042678-2a34-4a51-a82e-4388c6ee77a0",
   "metadata": {},
   "outputs": [
    {
     "name": "stdout",
     "output_type": "stream",
     "text": [
      "The name of the Engineer is Dua e Qirat\n",
      "Engr('Dua e Qirat')\n",
      "Dua e Qirat\n",
      "11\n",
      "we are engineers\n"
     ]
    }
   ],
   "source": [
    "#dunder methods\n",
    "#example\n",
    "#import py file\n",
    "from listday73 import Engineers\n",
    "\n",
    "engr = Engineers(\"Dua e Qirat\")\n",
    "\n",
    "#examples methods\n",
    "#__str__\n",
    "print(str(engr))\n",
    "#__repr__\n",
    "print(repr(engr))\n",
    "#__init__\n",
    "print(engr.name)\n",
    "#__len__\n",
    "print(len(engr))\n",
    "#__call__\n",
    "engr()"
   ]
  },
  {
   "cell_type": "markdown",
   "id": "6c4cd696-11bb-4c92-b00b-0ddd23185a15",
   "metadata": {},
   "source": [
    "DAY 74 METHOD OVERRIDING"
   ]
  },
  {
   "cell_type": "code",
   "execution_count": 4,
   "id": "bbb7feb2-0ca8-4351-a3f5-b3ebd313b311",
   "metadata": {},
   "outputs": [
    {
     "name": "stdout",
     "output_type": "stream",
     "text": [
      "Area of Circile is : 153.86 \n",
      "Area of Rectangle is: 15\n",
      "Area of Square is : 16\n"
     ]
    }
   ],
   "source": [
    "#Writing methods in the methods\n",
    "\n",
    "class Shape:\n",
    "  def __init__(self, x, y):\n",
    "    self.x = x\n",
    "    self.y = y\n",
    "    \n",
    "  def area(self):\n",
    "      return self.x * self.y\n",
    "\n",
    "class Circle(Shape):\n",
    "    def __init__(self, radius):\n",
    "      self.radius = radius\n",
    "      super().__init__(radius, radius)\n",
    "\n",
    "    def area(self):\n",
    "        return (3.14 *  super().area())\n",
    "\n",
    "circ = Circle(7)\n",
    "print(f\"Area of Circile is : {circ.area()} \")\n",
    "\n",
    "#--------------------------------------------------------\n",
    "class Rectangle:\n",
    "    def __init__(self, width, height):\n",
    "        self.width = width\n",
    "        self.height = height\n",
    "    \n",
    "    def area(self):\n",
    "        return self.width * self.height\n",
    "\n",
    "class Square(Rectangle):\n",
    "    def __init__(self, side_length):\n",
    "        super().__init__(side_length, side_length)  \n",
    "    \n",
    "    def area(self):\n",
    "        return super().area()  \n",
    "\n",
    "\n",
    "rect = Rectangle(3, 5)\n",
    "print(\"Area of Rectangle is:\", rect.area())  \n",
    "square = Square(4)\n",
    "print(\"Area of Square is :\", square.area())  \n",
    "\n"
   ]
  },
  {
   "cell_type": "markdown",
   "id": "21639c31-f03f-403e-96d6-f9dae53aa722",
   "metadata": {},
   "source": [
    "DAY 75 EXERCISE 7 SOLUTION IN DAY 68"
   ]
  },
  {
   "cell_type": "markdown",
   "id": "8654e512-1d91-4304-8e82-4565f3ccced5",
   "metadata": {},
   "source": [
    "DAY 76 EXERCISE 8"
   ]
  },
  {
   "cell_type": "code",
   "execution_count": 8,
   "id": "65750869-3bc7-49e9-ae69-c12bbf4f05e4",
   "metadata": {},
   "outputs": [
    {
     "data": {
      "text/plain": [
       "(True, <_io.FileIO [closed]>)"
      ]
     },
     "execution_count": 8,
     "metadata": {},
     "output_type": "execute_result"
    }
   ],
   "source": [
    "\n",
    "# USING PYPDF2 \n",
    "#EXERCISE IS TO MANIPULATE WITH PDF\n",
    "\n",
    "from PyPDF2 import PdfWriter\n",
    "import os # for local system\n",
    "\n",
    "merger = PdfWriter()\n",
    "\n",
    "files = [file for file in os.listdir() if file.endswith(\".pdf\")]\n",
    "\n",
    "for pdf in files:\n",
    "    merger.append(pdf)\n",
    "    \n",
    "#this will merge the pdf\n",
    "merger.write(\"merged-pdf-day76.pdf\")\n",
    "# merger.close()"
   ]
  },
  {
   "cell_type": "markdown",
   "id": "472fb15b-a3a4-4efd-97ca-1847e500866d",
   "metadata": {},
   "source": [
    "DAY 77 OPERATOR OVERLOADING"
   ]
  },
  {
   "cell_type": "code",
   "execution_count": null,
   "id": "5176fe96-4b67-4e7c-8894-db3c4f9c625b",
   "metadata": {},
   "outputs": [
    {
     "name": "stdout",
     "output_type": "stream",
     "text": [
      "Vector one: 6i + 3j + 9k\n",
      "Vector two is: 4i + 5j + 12k\n",
      "Sum of two vectors is: 10i + 8j + 21k\n",
      "<class '__main__.Vector'>\n"
     ]
    }
   ],
   "source": [
    "#day77 \n",
    "\n",
    "class Vector:\n",
    "  def __init__(self, i, j, k):\n",
    "    self.i = i\n",
    "    self.j = j\n",
    "    self.k = k\n",
    "\n",
    "  def __str__(self):\n",
    "    return f\"{self.i}i + {self.j}j + {self.k}k\"\n",
    "\n",
    "  def __add__(self, x):\n",
    "    return Vector(self.i + x.i,  self.j+x.j, self.k+x.k) \n",
    "      \n",
    "v1 = Vector(6, 3, 9)\n",
    "print(f\"Vector one: {v1}\")\n",
    "\n",
    "v2 = Vector(4, 5, 12)\n",
    "print(f\"Vector two is: {v2}\")\n",
    "\n",
    "print(f\"Sum of two vectors is: {v1 + v2}\") # print the sum of 2 vectors\n",
    "\n",
    "print(type(v1 + v2)) #print the type"
   ]
  },
  {
   "cell_type": "markdown",
   "id": "d947c6d8-02f2-4259-ace5-b8c76aa33b83",
   "metadata": {},
   "source": [
    "DAY 78 SINGLE INHERITANCE"
   ]
  },
  {
   "cell_type": "code",
   "execution_count": null,
   "id": "a76d8dcc-5dae-4d9d-9256-5c326e2cfec9",
   "metadata": {},
   "outputs": [
    {
     "name": "stdout",
     "output_type": "stream",
     "text": [
      "Bark!\n",
      "Sound made by the animal\n",
      "Meow!\n"
     ]
    }
   ],
   "source": [
    "# day78\n",
    "\n",
    "class Animal:\n",
    "    def __init__(self, name, species):\n",
    "        self.name = name\n",
    "        self.species = species\n",
    "        \n",
    "    def make_sound(self):\n",
    "        print(\"Sound made by the animal\")\n",
    "\n",
    "class Dog(Animal):\n",
    "    def __init__(self, name, breed):\n",
    "        Animal.__init__(self, name, species=\"Dog\")\n",
    "        self.breed = breed\n",
    "        \n",
    "    def make_sound(self):\n",
    "        print(\"Bark!\")\n",
    "\n",
    "d = Dog(\"Dog\", \"German shepard\")\n",
    "d.make_sound()\n",
    "\n",
    "a = Animal(\"Dog\", \"Dog\")\n",
    "a.make_sound()\n",
    "\n",
    "\n",
    "class Cat(Animal):\n",
    "    def __init__(self, name, breed):\n",
    "        Animal.__init__(self, name, species=\"Cat\")\n",
    "        self.breed = breed\n",
    "\n",
    "    def make_sound(self):\n",
    "        print(\"Meow!\")\n",
    "\n",
    "c = Cat(\"cat\", \"persian\")\n",
    "c.make_sound()\n",
    "\n",
    "\n"
   ]
  },
  {
   "cell_type": "markdown",
   "id": "befbe3a2-7b82-4226-99ea-668fbba1c37a",
   "metadata": {},
   "source": [
    "DAY 79 MULTIPLE INHERITANCE"
   ]
  },
  {
   "cell_type": "code",
   "execution_count": null,
   "id": "94a0f366-a3f5-4e0f-a0a3-864bd1672c3a",
   "metadata": {},
   "outputs": [
    {
     "name": "stdout",
     "output_type": "stream",
     "text": [
      "Dua Qirat\n",
      "Computer Science\n",
      "Hello, my name is Dua Qirat.\n",
      "[<class '__main__.StudentPerson'>, <class '__main__.Person'>, <class '__main__.Student'>, <class 'object'>]\n"
     ]
    }
   ],
   "source": [
    "#day79\n",
    "\n",
    "class Person:\n",
    "    def __init__(self, person_name):\n",
    "        self.person_name = person_name\n",
    "\n",
    "    def introduce(self):\n",
    "        print(f\"Hello, my name is {self.person_name}.\")\n",
    "\n",
    "class Student:\n",
    "    def __init__(self, major):\n",
    "        self.major = major\n",
    "\n",
    "    def introduce(self):\n",
    "        print(f\"I am studying {self.major}.\")\n",
    "\n",
    "class StudentPerson(Person, Student):\n",
    "    def __init__(self, person_name, major):\n",
    "        Person.__init__(self, person_name)\n",
    "        Student.__init__(self, major)\n",
    "\n",
    "# instance of StudentPerson\n",
    "\n",
    "individual = StudentPerson(\"Dua Qirat\", \"Computer Science\")\n",
    "print(individual.person_name)\n",
    "print(individual.major)\n",
    "individual.introduce()\n",
    "\n",
    "#For details of method,  explanis the order\n",
    "print(StudentPerson.mro())\n"
   ]
  },
  {
   "cell_type": "markdown",
   "id": "7cb47332-6956-4f4e-ab3e-2bda9eb0483d",
   "metadata": {},
   "source": [
    "DAY 80 MULTILEVEL INHERITANCE"
   ]
  },
  {
   "cell_type": "code",
   "execution_count": null,
   "id": "16da37d9-443a-49a5-9598-12e784c35b46",
   "metadata": {},
   "outputs": [
    {
     "name": "stdout",
     "output_type": "stream",
     "text": [
      "Name: Dua Qirat\n",
      "Age: 24\n",
      "Job Title: Manager\n",
      "Department: Python Development\n",
      "[<class '__main__.Manager'>, <class '__main__.Employee'>, <class '__main__.Person'>, <class 'object'>]\n"
     ]
    }
   ],
   "source": [
    "#day 80\n",
    "\n",
    "class Person:\n",
    "    def __init__(self, name, age):\n",
    "        self.name = name\n",
    "        self.age = age\n",
    "        \n",
    "    def show_details(self):\n",
    "        print(f\"Name: {self.name}\")\n",
    "        print(f\"Age: {self.age}\")\n",
    "        \n",
    "class Employee(Person):\n",
    "    def __init__(self, name, age, job_title):\n",
    "        Person.__init__(self, name, age)\n",
    "        self.job_title = job_title\n",
    "        \n",
    "    def show_details(self):\n",
    "        Person.show_details(self)\n",
    "        print(f\"Job Title: {self.job_title}\")\n",
    "        \n",
    "class Manager(Employee):\n",
    "    def __init__(self, name, age, department):\n",
    "        Employee.__init__(self, name, age, job_title=\"Manager\")\n",
    "        self.department = department\n",
    "        \n",
    "    def show_details(self):\n",
    "        Employee.show_details(self)\n",
    "        print(f\"Department: {self.department}\")\n",
    "\n",
    "# instance of Manager\n",
    "m = Manager(\"Dua Qirat\", 24, \"Python Development\")\n",
    "m.show_details()\n",
    "\n",
    "# method resolution order\n",
    "print(Manager.mro())\n"
   ]
  }
 ],
 "metadata": {
  "kernelspec": {
   "display_name": "Python 3 (ipykernel)",
   "language": "python",
   "name": "python3"
  },
  "language_info": {
   "codemirror_mode": {
    "name": "ipython",
    "version": 3
   },
   "file_extension": ".py",
   "mimetype": "text/x-python",
   "name": "python",
   "nbconvert_exporter": "python",
   "pygments_lexer": "ipython3",
   "version": "3.12.4"
  }
 },
 "nbformat": 4,
 "nbformat_minor": 5
}
