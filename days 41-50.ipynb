{
 "cells": [
  {
   "cell_type": "markdown",
   "metadata": {},
   "source": [
    "DAY 41 SHORT HAND IF ELSE STATEMENT"
   ]
  },
  {
   "cell_type": "code",
   "execution_count": 24,
   "metadata": {},
   "outputs": [
    {
     "name": "stdout",
     "output_type": "stream",
     "text": [
      "the 3 is less then 8\n",
      "the reminder is < 0\n"
     ]
    }
   ],
   "source": [
    "#  Basic syntax\n",
    "# variable = value_if_true if condition else value_if_false\n",
    "\n",
    "\n",
    "num = int(input())\n",
    "result= f\"the {num} is greater then 8\" if num > 8 else f\"the {num} is less then 8\"\n",
    "print(result)\n",
    "\n",
    "\n",
    "x = int(input())\n",
    "result2 = \"the reminder is > 0\" if x%2 and x >0 else \"the reminder is < 0\"\n",
    "print(result2)\n"
   ]
  },
  {
   "cell_type": "markdown",
   "metadata": {},
   "source": [
    "DAY 42 ENUMERATE FUNCTION"
   ]
  },
  {
   "cell_type": "code",
   "execution_count": 28,
   "metadata": {},
   "outputs": [
    {
     "name": "stdout",
     "output_type": "stream",
     "text": [
      "0 12\n",
      "1 222\n",
      "2 54\n",
      "3 7\n",
      "4 50\n",
      "1 dua\n",
      "2 fiza\n",
      "3 hiba\n",
      "4 huda\n",
      "5 zara\n",
      "6 zareen\n",
      "7 fatima\n",
      "8 fazia\n",
      "9 filza\n",
      "10 areeba\n",
      "11 yumna\n",
      "12 mahreen\n"
     ]
    }
   ],
   "source": [
    "nums = [12, 222, 54, 7, 50]\n",
    "\n",
    "for index, num in enumerate(nums):\n",
    "    print(index, num)\n",
    "\n",
    "\n",
    "\n",
    "students_name = [\"dua\", \"fiza\", \"hiba\", \"huda\", \"zara\", \"zareen\", \"fatima\",\n",
    "                 \"fazia\", \"filza\", \"areeba\", \"yumna\", \"mahreen\"]\n",
    "for index, name in enumerate(students_name, start = 1):\n",
    "    print(index, name)\n",
    "\n",
    "\n"
   ]
  },
  {
   "cell_type": "markdown",
   "metadata": {},
   "source": [
    "DAY 43 VIRTUAL ENVIRONMENT"
   ]
  },
  {
   "cell_type": "code",
   "execution_count": null,
   "metadata": {},
   "outputs": [],
   "source": [
    "# how to create virtual environment\n",
    "# in cmd \n",
    "# python -m venv python100\n",
    "\n",
    "#python100/scripts/activate \n",
    "# pip install package_name\n",
    "\n"
   ]
  },
  {
   "cell_type": "markdown",
   "metadata": {},
   "source": [
    "DAY 44 HOW IMPORT WORKS"
   ]
  },
  {
   "cell_type": "code",
   "execution_count": 33,
   "metadata": {},
   "outputs": [
    {
     "name": "stdout",
     "output_type": "stream",
     "text": [
      "5.0\n",
      "<class 'pandas.io.excel._base.ExcelFile'>\n",
      "4.442882938158366\n",
      "2.080083823051904\n",
      "['__doc__', '__loader__', '__name__', '__package__', '__spec__', 'acos', 'acosh', 'asin', 'asinh', 'atan', 'atan2', 'atanh', 'cbrt', 'ceil', 'comb', 'copysign', 'cos', 'cosh', 'degrees', 'dist', 'e', 'erf', 'erfc', 'exp', 'exp2', 'expm1', 'fabs', 'factorial', 'floor', 'fmod', 'frexp', 'fsum', 'gamma', 'gcd', 'hypot', 'inf', 'isclose', 'isfinite', 'isinf', 'isnan', 'isqrt', 'lcm', 'ldexp', 'lgamma', 'log', 'log10', 'log1p', 'log2', 'modf', 'nan', 'nextafter', 'perm', 'pi', 'pow', 'prod', 'radians', 'remainder', 'sin', 'sinh', 'sqrt', 'sumprod', 'tan', 'tanh', 'tau', 'trunc', 'ulp']\n"
     ]
    }
   ],
   "source": [
    "# import module_name\n",
    "\n",
    "import math\n",
    "print(math.sqrt(25))\n",
    "\n",
    "from pandas import ExcelFile\n",
    "print(ExcelFile)\n",
    "\n",
    "import math as m\n",
    "print(m.sqrt(2)* m.pi)\n",
    "\n",
    "from math import pi, cbrt as c\n",
    "print(c(9))\n",
    "\n",
    "print(dir(math))\n",
    "\n"
   ]
  },
  {
   "cell_type": "markdown",
   "metadata": {},
   "source": [
    "DAY 45 if __name__ == \"__main__\"\n"
   ]
  },
  {
   "cell_type": "code",
   "execution_count": 4,
   "metadata": {},
   "outputs": [
    {
     "name": "stdout",
     "output_type": "stream",
     "text": [
      "i am dua shah, graduated from muet, age 24\n",
      "hello Good evening\n"
     ]
    }
   ],
   "source": [
    "import dua\n",
    "dua.my_self()\n",
    "\n",
    "\n",
    "dua.greetings()\n"
   ]
  },
  {
   "cell_type": "markdown",
   "metadata": {},
   "source": [
    "DAY 46 OS MODULE"
   ]
  },
  {
   "cell_type": "code",
   "execution_count": 10,
   "metadata": {},
   "outputs": [
    {
     "name": "stdout",
     "output_type": "stream",
     "text": [
      "Current Directory: C:\\Users\\Duashah.2000\\Desktop\n",
      "Changed to Directory: C:\\Users\\Duashah.2000\\Desktop\n",
      "Files in Directory: ['myproject', 'requirements.txt', 'studies']\n",
      "Created Directory: C:\\Users\\Duashah.2000\\Desktop\\new_directory\n",
      "Renamed Directory: C:\\Users\\Duashah.2000\\Desktop\\renamed_directory\n",
      "Removed Directory: C:\\Users\\Duashah.2000\\Desktop\\renamed_directory\n",
      "Python Path: None\n",
      "C:\\Users\\Duashah.2000\\Desktop\\new_directory does not exist.\n",
      "OS Name: nt\n",
      "Line Separator: \n",
      "\n"
     ]
    }
   ],
   "source": [
    "\n",
    "import os\n",
    "\n",
    "# Example 1: Get Current Working Directory\n",
    "current_dir = os.getcwd()\n",
    "print(f\"Current Directory: {current_dir}\")\n",
    "\n",
    "# Example 2: Change Directory (on Windows)\n",
    "# Replace 'C:\\\\Users\\\\YourUsername\\\\Desktop' with a valid directory on your system\n",
    "os.chdir(r'C:\\Users\\Duashah.2000\\Desktop')\n",
    "print(f\"Changed to Directory: {os.getcwd()}\")\n",
    "\n",
    "# Example 3: List Files in Directory\n",
    "files = os.listdir()  # List files in the current directory\n",
    "print(f\"Files in Directory: {files}\")\n",
    "\n",
    "# Example 4: Create a Directory\n",
    "new_dir = os.path.join(os.getcwd(), 'new_directory')  # Create in current directory\n",
    "os.mkdir(new_dir)\n",
    "print(f\"Created Directory: {new_dir}\")\n",
    "\n",
    "# Example 5: Rename a Directory\n",
    "renamed_dir = os.path.join(os.getcwd(), 'renamed_directory')\n",
    "os.rename(new_dir, renamed_dir)\n",
    "print(f\"Renamed Directory: {renamed_dir}\")\n",
    "\n",
    "# Example 6: Remove a Directory\n",
    "os.rmdir(renamed_dir)\n",
    "print(f\"Removed Directory: {renamed_dir}\")\n",
    "\n",
    "# Example 7: Execute a System Command (on Windows)\n",
    "# Use 'dir' instead of 'ls -l' on Windows to list files in the current directory\n",
    "os.system('dir')\n",
    "\n",
    "# Example 8: Environment Variables\n",
    "python_path = os.getenv('PYTHONPATH')\n",
    "print(f\"Python Path: {python_path}\")\n",
    "\n",
    "# Example 9: Check if a Path Exists and is a Directory\n",
    "path_to_check = os.path.join(os.getcwd(), 'new_directory')\n",
    "if os.path.exists(path_to_check):\n",
    "    print(f\"{path_to_check} exists.\")\n",
    "    if os.path.isdir(path_to_check):\n",
    "        print(f\"{path_to_check} is a directory.\")\n",
    "    else:\n",
    "        print(f\"{path_to_check} is not a directory.\")\n",
    "else:\n",
    "    print(f\"{path_to_check} does not exist.\")\n",
    "\n",
    "# Example 10: Platform-specific Information\n",
    "print(f\"OS Name: {os.name}\")\n",
    "print(f\"Line Separator: {os.linesep}\")\n",
    "\n",
    "# Example 11: Fork a New Process (Unix/Linux)\n",
    "# Note: Uncomment and run on Unix/Linux to test\n",
    "# pid = os.fork()\n",
    "# if pid == 0:\n",
    "#     print(\"Child process\")\n",
    "# else:\n",
    "#     print(\"Parent process\")\n"
   ]
  }
 ],
 "metadata": {
  "kernelspec": {
   "display_name": "Python 3",
   "language": "python",
   "name": "python3"
  },
  "language_info": {
   "codemirror_mode": {
    "name": "ipython",
    "version": 3
   },
   "file_extension": ".py",
   "mimetype": "text/x-python",
   "name": "python",
   "nbconvert_exporter": "python",
   "pygments_lexer": "ipython3",
   "version": "3.12.4"
  }
 },
 "nbformat": 4,
 "nbformat_minor": 2
}
