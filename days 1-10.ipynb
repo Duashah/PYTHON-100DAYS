{
 "cells": [
  {
   "cell_type": "markdown",
   "metadata": {},
   "source": [
    "PYTHON DAY 1 (iNTRO)\n"
   ]
  },
  {
   "cell_type": "code",
   "execution_count": null,
   "metadata": {},
   "outputs": [],
   "source": [
    "name = \"hello world\"\n",
    "print(name)\n",
    "\n",
    "\n",
    "\n",
    "\n",
    "\n",
    "\n"
   ]
  },
  {
   "cell_type": "markdown",
   "metadata": {},
   "source": [
    "PYTHON DAY 2 (SOME PYTHON PROGRAMS)"
   ]
  },
  {
   "cell_type": "markdown",
   "metadata": {},
   "source": [
    "GIVEN SOME PROGRAMS JUST FOR RUN AND SEE"
   ]
  },
  {
   "cell_type": "markdown",
   "metadata": {},
   "source": [
    "PYTHON DAY 3(modules and pip)"
   ]
  },
  {
   "cell_type": "code",
   "execution_count": null,
   "metadata": {},
   "outputs": [],
   "source": [
    "#given code \n",
    "# explaining builtin and external module\n",
    "# when i run this code they show me error\n",
    "# ModuleNotFoundError: No module named 'pandas'\n",
    "# then i install pandas in vscode\n",
    "# pip install pandas\n",
    "# but there is no need and lib \n",
    "\n",
    "\n",
    "import pandas  # This is an example of external module\n",
    "import hashlib  # This is an example of built in module\n",
    "\n",
    "print(\"Hi\")\n",
    "\n"
   ]
  },
  {
   "cell_type": "markdown",
   "metadata": {},
   "source": [
    "PYTHON DAY 4 (FIRST basic PROGRAM)"
   ]
  },
  {
   "cell_type": "code",
   "execution_count": 4,
   "metadata": {},
   "outputs": [
    {
     "name": "stdout",
     "output_type": "stream",
     "text": [
      "dua shah 3\n",
      "104\n",
      "21\n"
     ]
    }
   ],
   "source": [
    "print(\"dua\", \"shah\" , 3)\n",
    "print(13*8)\n",
    "print(21)"
   ]
  },
  {
   "cell_type": "markdown",
   "metadata": {},
   "source": [
    "PYTHON DAY 5 (comment, sequence etc)"
   ]
  },
  {
   "cell_type": "code",
   "execution_count": 12,
   "metadata": {},
   "outputs": [
    {
     "name": "stdout",
     "output_type": "stream",
     "text": [
      "i am dua\n",
      "computer system engineer \n",
      "work with saincube as intern\n",
      "Anyword i want to \"highlight\"  3\n"
     ]
    }
   ],
   "source": [
    "myself =  \"i am dua\\ncomputer system engineer \\nwork with saincube as intern\"\n",
    "new = \"Anyword i want to \\\"highlight\\\" \"\n",
    "print(myself)\n",
    "print (new , 3)\n",
    "\n",
    "\n",
    "# its a simple program\n",
    "## also double use for comments \n",
    "\n",
    "\n",
    "\n"
   ]
  },
  {
   "cell_type": "markdown",
   "metadata": {},
   "source": [
    "Day 6 (TYPES)"
   ]
  },
  {
   "cell_type": "code",
   "execution_count": null,
   "metadata": {},
   "outputs": [],
   "source": [
    "# Type\n",
    "\n",
    "a = 100\n",
    "b =\"dua\"\n",
    "c = 0.9\n",
    "d = None\n",
    "e = True\n",
    "\n",
    "\n",
    "print(a +100,\"the type of \",a, \"is \",type(a))\n",
    "print(b + \"shah\",\"the type of \",b, \"is \",type(b))\n",
    "print(c,\"the type of \",c, \"is \",type(c))\n",
    "print(d,\"the type of \",d, \"is \",type(d))\n",
    "print(e,\"the type of \",e, \"is \",type(e))\n"
   ]
  },
  {
   "cell_type": "markdown",
   "metadata": {},
   "source": [
    "DAY 7 "
   ]
  },
  {
   "cell_type": "code",
   "execution_count": null,
   "metadata": {},
   "outputs": [],
   "source": [
    "# list, tuple, dictionary\n",
    "\n",
    "list = [67, 23.3, \"laptop\",] #list is mutable(will be change)\n",
    "print(list)\n",
    "\n",
    "tuple = {\"grocery list\", \"food items\", \"prices\", 85, 78.4, 100+23} #immutable (can't change)\n",
    "print(tuple)\n",
    "\n",
    "dict = {\"word\":\"furious\", \"meaning\":\"angry\", \"is that\":True }\n",
    "print(dict)"
   ]
  },
  {
   "cell_type": "markdown",
   "metadata": {},
   "source": [
    "DAY 8 (TASK)"
   ]
  },
  {
   "cell_type": "code",
   "execution_count": 48,
   "metadata": {},
   "outputs": [
    {
     "name": "stdout",
     "output_type": "stream",
     "text": [
      "the answer of 56 + 30 is 86\n",
      "the answer of 56 - 30 is 26\n",
      "the answer of 56 * 30 is 1680\n",
      "the answer of 56 / 30 is 1.8666666666666667\n",
      "the answer of 56 // 30 is 1\n",
      "the answer of 56 % 30 is 26\n"
     ]
    }
   ],
   "source": [
    "# calculator task\n",
    "\n",
    "a = 56\n",
    "b = 30\n",
    "\n",
    "ans1 = a + b\n",
    "print(\"the answer of\", a ,\"+\",b, \"is\",ans1)\n",
    "ans2 = a - b\n",
    "print(\"the answer of\", a ,\"-\",b, \"is\",ans2)\n",
    "ans3 = a * b\n",
    "print(\"the answer of\", a ,\"*\",b, \"is\",ans3)\n",
    "ans4 = a / b\n",
    "print(\"the answer of\", a ,\"/\",b, \"is\",ans4)\n",
    "ans5 = a // b\n",
    "print(\"the answer of\", a ,\"//\",b, \"is\",ans5)\n",
    "ans6= a % b\n",
    "print(\"the answer of\", a ,\"%\",b, \"is\",ans6)\n"
   ]
  },
  {
   "cell_type": "markdown",
   "metadata": {},
   "source": [
    "DAY 9"
   ]
  },
  {
   "cell_type": "code",
   "execution_count": 47,
   "metadata": {},
   "outputs": [
    {
     "name": "stdout",
     "output_type": "stream",
     "text": [
      "23\n",
      "5\n",
      "9\n",
      "18\n",
      "duashah\n",
      "dua2\n"
     ]
    }
   ],
   "source": [
    "# Typecasting\n",
    "\n",
    "a = \"2\"\n",
    "b = \"3\"\n",
    "c = 6\n",
    "d = 3\n",
    "name = \"dua\"\n",
    "lastname = \"shah\"\n",
    "\n",
    "print(a+b)\n",
    "print(int(a)+int(b))\n",
    "print(c+d)\n",
    "# print(a*b) error beacuse a and b is string while\n",
    "print(c*d)\n",
    "print(name + lastname)\n",
    "print (name + a)\n",
    "# print(name + c) error beacuse name is string data type while c is integer "
   ]
  },
  {
   "cell_type": "markdown",
   "metadata": {},
   "source": [
    "DAY 10\n",
    "USER INPUT"
   ]
  },
  {
   "cell_type": "code",
   "execution_count": 24,
   "metadata": {},
   "outputs": [
    {
     "name": "stdout",
     "output_type": "stream",
     "text": [
      "dua\n",
      "hello dua good to see you\n",
      "43\n",
      "4\n",
      "3\n",
      "7\n",
      "1\n",
      "dua 4\n"
     ]
    }
   ],
   "source": [
    "name = input(\"write your name here:\")\n",
    "print(name)\n",
    "print(\"hello\", name, \"good to see you\")\n",
    "\n",
    "\n",
    "# a = int(input(\"write any number\")) \n",
    "# b = input()\n",
    "# print(a + b) # error beacuse both of them should be same\n",
    "\n",
    "\n",
    "# a = int(input(\"write any number\")) \n",
    "# b = int(input())\n",
    "# print(a + b) no error\n",
    "\n",
    "a = input(\"write any number\")\n",
    "b = input()\n",
    "print(a + b)\n",
    "\n",
    "# print(float(a)+float(b))\\\n",
    "print(a)\n",
    "print(b)\n",
    "print(int(a)+int(b))\n",
    "print(int(a)%int(b))\n",
    "print(name, a)\n",
    "\n"
   ]
  }
 ],
 "metadata": {
  "kernelspec": {
   "display_name": "Python 3",
   "language": "python",
   "name": "python3"
  },
  "language_info": {
   "codemirror_mode": {
    "name": "ipython",
    "version": 3
   },
   "file_extension": ".py",
   "mimetype": "text/x-python",
   "name": "python",
   "nbconvert_exporter": "python",
   "pygments_lexer": "ipython3",
   "version": "3.12.4"
  }
 },
 "nbformat": 4,
 "nbformat_minor": 2
}
