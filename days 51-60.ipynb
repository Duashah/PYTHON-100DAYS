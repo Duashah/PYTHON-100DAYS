{
 "cells": [
  {
   "cell_type": "markdown",
   "id": "d0435922-5c77-4804-beab-1b8efb56cadd",
   "metadata": {},
   "source": [
    "DAY 51 SEEK AND TELL FUNCTIONS"
   ]
  },
  {
   "cell_type": "code",
   "execution_count": 4,
   "id": "9301d0ec-fac0-418b-8bbd-24e0bd4549ef",
   "metadata": {},
   "outputs": [
    {
     "name": "stdout",
     "output_type": "stream",
     "text": [
      "Dua qirat is my name\n"
     ]
    }
   ],
   "source": [
    "#will create the text file named test51.txt\n",
    "#will reduce the file size\n",
    "with open('test51.txt', 'w') as f:\n",
    "  f.write('Dua qirat is my name, i am a software developer')\n",
    "  f.truncate(20)\n",
    "\n",
    "with open('test51.txt', 'r') as f:\n",
    "  print(f.read())"
   ]
  },
  {
   "cell_type": "markdown",
   "id": "a75b8d83-41da-4fdb-86f7-40d029a6905c",
   "metadata": {},
   "source": [
    "DAY 52 LAMBDA FUNCTIONS"
   ]
  },
  {
   "cell_type": "code",
   "execution_count": 13,
   "id": "ca254afc-9fc3-4e58-8021-247bdfb88532",
   "metadata": {},
   "outputs": [
    {
     "name": "stdout",
     "output_type": "stream",
     "text": [
      "4\n",
      "40\n",
      "27000\n",
      "15.0\n",
      "20\n"
     ]
    }
   ],
   "source": [
    "#lambda functions\n",
    "#lambda arguments: expression\n",
    "\n",
    "\n",
    "def function(fx, value):\n",
    "  return 4 + fx(value)\n",
    "#fx is a function which will take lambda arguments\n",
    "\n",
    "double = lambda x: x * 2\n",
    "cube = lambda x: x * x * x\n",
    "square = lambda x: x * x\n",
    "avg = lambda x, y, z: (x + y + z) / 3\n",
    "\n",
    "print(square(2))\n",
    "print(double(20))\n",
    "print(cube(30))\n",
    "print(avg(10, 15, 20))\n",
    "print(function(lambda x: x * x , 4))"
   ]
  },
  {
   "cell_type": "markdown",
   "id": "4ccead64-350e-475c-9281-388d86d724f6",
   "metadata": {},
   "source": [
    "DAY 53 MAP FILTER AND REDUCE"
   ]
  },
  {
   "cell_type": "code",
   "execution_count": 21,
   "id": "03999ec5-3639-407c-89ac-f19886001c73",
   "metadata": {},
   "outputs": [
    {
     "name": "stdout",
     "output_type": "stream",
     "text": [
      "[144, 4, 16, 36, 9, 100]\n"
     ]
    }
   ],
   "source": [
    "# list of numbers\n",
    "listofnumbers = [12, 2, 4, 6, 3, 10]\n",
    "\n",
    "#using the lambda to squrae the numbers in the list and useing the map to give the arguments in a list\n",
    "squaredlist = list(map(lambda x: x*x, listofnumbers))\n",
    "\n",
    "print(squaredlist)\n"
   ]
  },
  {
   "cell_type": "code",
   "execution_count": 25,
   "id": "aecaa847-8228-45ac-b072-b5f2e8032b7e",
   "metadata": {},
   "outputs": [
    {
     "name": "stdout",
     "output_type": "stream",
     "text": [
      "[12, 4, 6, 10]\n"
     ]
    }
   ],
   "source": [
    "#function to filter out the list\n",
    "def filter_function(a):\n",
    "  return a >= 4\n",
    "\n",
    "# Using the filter function to get list of number greater than 4\n",
    "filterlist = list(filter(filter_function, listofnumbers))\n",
    "\n",
    "# Print the filtered list\n",
    "print(filterlist)\n"
   ]
  },
  {
   "cell_type": "code",
   "execution_count": 27,
   "id": "4d069e69-386c-4153-ad18-515dfcecd631",
   "metadata": {},
   "outputs": [
    {
     "name": "stdout",
     "output_type": "stream",
     "text": [
      "78\n"
     ]
    }
   ],
   "source": [
    "from functools import reduce\n",
    "#to make the sum\n",
    "\n",
    "# list of numbers\n",
    "numbers = [1, 2, 3, 4, 5,6,  7, 8, 9, 10, 11, 12]\n",
    "\n",
    "# function to sum 2 numbers\n",
    "def mysum(x, y):\n",
    "  return x + y\n",
    "\n",
    "# reduce function to calculate sum of the numbers in the list\n",
    "sumoflist = reduce(mysum, numbers)\n",
    "\n",
    "print(sumoflist)\n"
   ]
  },
  {
   "cell_type": "markdown",
   "id": "fa5d8d81-f255-457d-95d1-c248840cbf0c",
   "metadata": {},
   "source": [
    "DAY 54 IS VS IN "
   ]
  },
  {
   "cell_type": "code",
   "execution_count": 28,
   "id": "af473959-9f1f-4136-ad08-3d0890daf57a",
   "metadata": {},
   "outputs": [
    {
     "name": "stdout",
     "output_type": "stream",
     "text": [
      "True\n",
      "True\n",
      "True\n",
      "False\n",
      "True\n"
     ]
    }
   ],
   "source": [
    "#day54\n",
    "#comparing two variables\n",
    "#'is' checks the exact loaction of object\n",
    "#'==' checks the exact value\n",
    "\n",
    "a = None\n",
    "b = None\n",
    "\n",
    "print(a is b) \n",
    "print(a is None)\n",
    "print(a == b) \n",
    "\n",
    "c = \"python course\"\n",
    "d = \"python course\"\n",
    "\n",
    "print(c is d)\n",
    "print(c == d)"
   ]
  },
  {
   "cell_type": "markdown",
   "id": "ba81b6de-5ab9-425e-ad52-1c6854836dd0",
   "metadata": {},
   "source": [
    "DAY 55 EXERCISE 5, MAKING GAME, SNAKE WATER GUN, USER VS COMPUTER"
   ]
  },
  {
   "cell_type": "code",
   "execution_count": 29,
   "id": "89fa4fa4-3d2d-4ccc-a653-66ffd0809276",
   "metadata": {},
   "outputs": [
    {
     "name": "stdin",
     "output_type": "stream",
     "text": [
      "For Snake input 0, For Water input 1 and For Gun input 2:\n",
      " 1\n"
     ]
    },
    {
     "name": "stdout",
     "output_type": "stream",
     "text": [
      "Your selection:  1\n",
      "Computer selection:  1\n",
      "Its a draw\n"
     ]
    }
   ],
   "source": [
    "import random\n",
    "\n",
    "def checking(computer, user):\n",
    "  if computer == user:\n",
    "    return 0\n",
    "    \n",
    "  if(computer == 0 and user == 1):\n",
    "    return -1\n",
    "    \n",
    "  if(computer == 1 and user ==2):\n",
    "    return -1\n",
    "    \n",
    "  if(comp == 2 and user == 0):\n",
    "    return -1\n",
    "\n",
    "  return 1\n",
    "    \n",
    "#randomly generating computer input  \n",
    "computer = random.randint(0, 2)\n",
    "\n",
    "user = int(input(\"For Snake input 0, For Water input 1 and For Gun input 2:\\n\"))\n",
    "\n",
    "score = checking(computer, user)\n",
    "\n",
    "print(\"Your selection: \", user)\n",
    "print(\"Computer selection: \", computer)\n",
    "\n",
    "if(score == 0):\n",
    "  print(\"Its a draw\")\n",
    "elif (score == -1):\n",
    "  print(\"You Lose\")\n",
    "else:\n",
    "  print(\"You Won\")\n",
    "  "
   ]
  },
  {
   "cell_type": "markdown",
   "id": "2f69eb71-c44f-4f43-8dd1-534ffce012e4",
   "metadata": {},
   "source": [
    "DAY 56 INTRO TO OOPS\n",
    "Object Oriented Programming, for example if we want to do multiple time same calcutions and processes, than for every calculation we will be creating new variables, but in OOP we standardize the variable for future needs in a class, than in future we just want to call the class and add the data in that pre defined variables, class works like a methods and functions"
   ]
  },
  {
   "cell_type": "markdown",
   "id": "2b2a7812-368a-4928-a3c7-73761ddc91ef",
   "metadata": {},
   "source": [
    "DAY 57 CLASSES AND OBJECTS"
   ]
  },
  {
   "cell_type": "code",
   "execution_count": 30,
   "id": "a4dc7729-453c-4116-860b-209fcc79afeb",
   "metadata": {},
   "outputs": [
    {
     "name": "stdout",
     "output_type": "stream",
     "text": [
      "Hello, my name is Dua. I am a 12 grade student and my favourite subject is computer science.\n",
      "Hello, my name is huda. I am a 10 grade student and my favourite subject is english.\n",
      "Hello, my name is sara. I am a 10 grade student and my favourite subject is poetry.\n"
     ]
    }
   ],
   "source": [
    "class Student:\n",
    "    name = \"Unknown\"\n",
    "    grade = 0\n",
    "    subject = \"Undeclared\"\n",
    "\n",
    "    def introduce(self):\n",
    "        print(f\"Hello, my name is {self.name}. I am a {self.grade} grade student and my favourite subject is {self.subject}.\")\n",
    "\n",
    "# instances\n",
    "student1 = Student()\n",
    "student2 = Student()\n",
    "student3 = Student()\n",
    "\n",
    "# adding data\n",
    "student1.name = \"Dua\"\n",
    "student1.grade = 12\n",
    "student1.subject = \"computer science\"\n",
    "\n",
    "student2.name = \"huda\"\n",
    "student2.grade = 10\n",
    "student2.subject = \"english\"\n",
    "\n",
    "student3.name = \"sara\"\n",
    "student3.grade = 10\n",
    "student3.subject = \"poetry\"\n",
    "\n",
    "# Using methods to print\n",
    "student1.introduce()\n",
    "student2.introduce()\n",
    "student3.introduce()\n"
   ]
  },
  {
   "cell_type": "markdown",
   "id": "64b0fb8a-7081-4890-b2d7-f3dafb592698",
   "metadata": {},
   "source": [
    "DAY 58 CONSTRUCTORS"
   ]
  },
  {
   "cell_type": "code",
   "execution_count": 39,
   "id": "279b26a8-a351-4542-95da-6431321bb0d5",
   "metadata": {},
   "outputs": [
    {
     "name": "stdout",
     "output_type": "stream",
     "text": [
      "student list\n",
      "student list\n",
      "student list\n",
      "Hello, my name is dua. I am a 12 grade student and my favourite subject is computer science.\n",
      "Hello, my name is huda. I am a 10 grade student and my favourite subject is english.\n",
      "Hello, my name is sara. I am a 10 grade student and my favourite subject is poetry.\n"
     ]
    }
   ],
   "source": [
    "class Student:\n",
    "  def __init__(self, name, grade, subject):\n",
    "    print(\"student list\")\n",
    "    self.name = name\n",
    "    self.grade = grade\n",
    "    self.subject = subject\n",
    "\n",
    "  def introduce(self):\n",
    "    print(f\"Hello, my name is {self.name}. I am a {self.grade} grade student and my favourite subject is {self.subject}.\")\n",
    "\n",
    "# data\n",
    "student1 = Student(\"dua\",12,\"computer science\")\n",
    "student2 = Student(\"huda\",10,\"english\")\n",
    "student3 = Student(\"sara\",10,\"poetry\")\n",
    "\n",
    "\n",
    "student1.introduce()\n",
    "student2.introduce()\n",
    "student3.introduce()\n"
   ]
  },
  {
   "cell_type": "markdown",
   "id": "6a2b102c-cc60-4b95-8861-8a4c973f0832",
   "metadata": {},
   "source": [
    "DAY 59 DECORATORS "
   ]
  },
  {
   "cell_type": "code",
   "execution_count": 42,
   "id": "1e601280-ac04-401a-b972-6b2872e44560",
   "metadata": {},
   "outputs": [
    {
     "name": "stdout",
     "output_type": "stream",
     "text": [
      "Subha ba khier\n",
      "Hello friends\n",
      "calling decorators successfully\n",
      "Subha ba khier\n",
      "7\n",
      "calling decorators successfully\n",
      "Subha ba khier\n",
      "30\n",
      "calling decorators successfully\n",
      "Subha ba khier\n",
      "My name is dua and I am 24 years old.\n",
      "calling decorators successfully\n"
     ]
    }
   ],
   "source": [
    "def greetings(fx):\n",
    "    def mfx(*args, **kwargs):\n",
    "        print(\"Subha ba khier\")\n",
    "        fx(*args, **kwargs)\n",
    "        print(\"calling decorators successfully\")\n",
    "    return mfx\n",
    "\n",
    "@greetings\n",
    "def hello():\n",
    "    print(\"Hello friends\")\n",
    "\n",
    "@greetings\n",
    "def add(a, b):\n",
    "    print(a + b)\n",
    "\n",
    "@greetings\n",
    "def multiply(a, b):\n",
    "    result = a * b\n",
    "    print(result)\n",
    "    return result\n",
    "\n",
    "@greetings\n",
    "def introduce(name, age=30):\n",
    "    print(f\"My name is {name} and I am {age} years old.\")\n",
    "\n",
    "\n",
    "# decorated functions\n",
    "hello()\n",
    "add(3, 4)\n",
    "multiply(5, 6)\n",
    "introduce(\"dua\", age =24)\n",
    "\n"
   ]
  },
  {
   "cell_type": "markdown",
   "id": "f9d90c01-0197-4360-b11a-91865090535f",
   "metadata": {},
   "source": [
    "DAY 60 GETTERS AND SETTERS"
   ]
  },
  {
   "cell_type": "code",
   "execution_count": 51,
   "id": "e8ce551c-cb84-4dba-80ed-193472097d89",
   "metadata": {},
   "outputs": [
    {
     "name": "stdout",
     "output_type": "stream",
     "text": [
      "96.0\n",
      "Value is 9.6\n"
     ]
    }
   ],
   "source": [
    "#day60 indirectly manipulating \n",
    "\n",
    "class DAY60:\n",
    "  def __init__(self, value):\n",
    "      self._value = value\n",
    "    \n",
    "  def show(self):\n",
    "    print(f\"Value is {self._value}\")\n",
    "    \n",
    "  @property\n",
    "  def ten_value(self):\n",
    "      return 10* self._value\n",
    "    \n",
    "  @ten_value.setter\n",
    "  def ten_value(self, new_value):\n",
    "      self._value = new_value/10\n",
    "\n",
    "a = DAY60(10)\n",
    "a.ten_value = 96\n",
    "print(a.ten_value)\n",
    "a.show()"
   ]
  }
 ],
 "metadata": {
  "kernelspec": {
   "display_name": "Python 3 (ipykernel)",
   "language": "python",
   "name": "python3"
  },
  "language_info": {
   "codemirror_mode": {
    "name": "ipython",
    "version": 3
   },
   "file_extension": ".py",
   "mimetype": "text/x-python",
   "name": "python",
   "nbconvert_exporter": "python",
   "pygments_lexer": "ipython3",
   "version": "3.12.4"
  }
 },
 "nbformat": 4,
 "nbformat_minor": 5
}
