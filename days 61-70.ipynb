{
 "cells": [
  {
   "cell_type": "markdown",
   "id": "e3259d2a-307c-419b-83c1-1824acddd41c",
   "metadata": {},
   "source": [
    "DAY 61 INHERITANCE "
   ]
  },
  {
   "cell_type": "code",
   "execution_count": 14,
   "id": "dc782019-3128-4fe2-a4f4-b3430b6b89f9",
   "metadata": {},
   "outputs": [
    {
     "name": "stdout",
     "output_type": "stream",
     "text": [
      "The name of Engineer is Dua Qirat with id: 103\n",
      "The name of Manager is Sara Khan with id: 105\n",
      "The department is Software Engineering\n"
     ]
    }
   ],
   "source": [
    "class Engineer:\n",
    "    def __init__(self, name, id):\n",
    "        self.name = name\n",
    "        self.id = id\n",
    "\n",
    "    def showDetails(self):\n",
    "        print(f\"The name of Engineer is {self.name} with id: {self.id}\")\n",
    "\n",
    "\n",
    "class Manager(Engineer):  \n",
    "    def __init__(self, name, id):\n",
    "        super().__init__(name, id) \n",
    "\n",
    "    def showDetails(self):\n",
    "        print(f\"The name of Manager is {self.name} with id: {self.id}\")\n",
    "\n",
    "    def showDepartment(self):\n",
    "        print(\"The department is Software Engineering\")\n",
    "\n",
    "\n",
    "e1 = Engineer(\"Dua Qirat\", 103)\n",
    "e1.showDetails()\n",
    "\n",
    "e2 = Manager(\"Sara Khan\", 105)\n",
    "e2.showDetails()  \n",
    "\n",
    "e2.showDepartment()\n"
   ]
  },
  {
   "cell_type": "markdown",
   "id": "5a3e43d5-2671-44db-bdfc-2db740612531",
   "metadata": {},
   "source": [
    "DAY 62 ACCESS SPECIFIERS"
   ]
  },
  {
   "cell_type": "code",
   "execution_count": 15,
   "id": "f05510cd-a64b-4b5d-a8a5-cae056b68c4d",
   "metadata": {},
   "outputs": [
    {
     "name": "stdout",
     "output_type": "stream",
     "text": [
      "Python Programming Course\n",
      "Learn python from beginners to expert\n",
      "Python Programming Course\n",
      "Learn python from beginners to expert\n"
     ]
    }
   ],
   "source": [
    "#day62 \n",
    "\n",
    "class Book:\n",
    "    def __init__(self):\n",
    "        self._title = \"Python Programming Course\"\n",
    "\n",
    "    def _get_info(self):  # protected method\n",
    "        return \"Learn python from beginners to expert\"\n",
    "\n",
    "class EBook(Book):  # inherited class\n",
    "    pass\n",
    "\n",
    "book = Book()\n",
    "ebook = EBook()\n",
    "\n",
    "print(book._title)      \n",
    "print(book._get_info())  \n",
    "\n",
    "print(ebook._title)    \n",
    "print(ebook._get_info()) \n"
   ]
  },
  {
   "cell_type": "markdown",
   "id": "9ff1eda2-aa34-4c7e-865e-164d1d3ef2af",
   "metadata": {},
   "source": [
    "DAY 63 EXERCISE SOLUTION IS DONE ON DAY 55, WATER SNAKE GUN GAME"
   ]
  },
  {
   "cell_type": "markdown",
   "id": "774a991d-4428-4c1c-aa12-97fe0b294bc5",
   "metadata": {},
   "source": [
    "DAY 64 EXERCISE"
   ]
  },
  {
   "cell_type": "code",
   "execution_count": 16,
   "id": "0e9ea22e-3937-421d-bf28-46526d66c34e",
   "metadata": {},
   "outputs": [
    {
     "name": "stdout",
     "output_type": "stream",
     "text": [
      "This collection contains 3 books. The titles are:\n",
      "Harry Potter collections\n",
      "Deewan e Galib\n",
      "Urdu Poetry\n"
     ]
    }
   ],
   "source": [
    "#Daye 64 \n",
    "#Exercise to make a library\n",
    "class BookCollection:\n",
    "    def __init__(self):\n",
    "        self.total_books = 0\n",
    "        self.book_list = []\n",
    "        \n",
    "    def insert_book(self, title):\n",
    "        self.book_list.append(title)\n",
    "        self.total_books = len(self.book_list)\n",
    "\n",
    "    def display_info(self):\n",
    "        print(f\"This collection contains {self.total_books} books. The titles are:\")\n",
    "        for title in self.book_list:\n",
    "            print(title)\n",
    "\n",
    "collection1 = BookCollection()\n",
    "collection1.insert_book(\"Harry Potter collections\")\n",
    "collection1.insert_book(\"Deewan e Galib\")\n",
    "collection1.insert_book(\"Urdu Poetry\")\n",
    "collection1.display_info()\n"
   ]
  },
  {
   "cell_type": "markdown",
   "id": "2eecd26b-1a0c-4f6f-9cff-e7b169538d71",
   "metadata": {},
   "source": [
    "DAY 65 STATIC METHODS"
   ]
  },
  {
   "cell_type": "code",
   "execution_count": 17,
   "id": "4c9b65b0-1100-4faa-a999-3ef05ed3a0e0",
   "metadata": {},
   "outputs": [
    {
     "name": "stdout",
     "output_type": "stream",
     "text": [
      "10\n",
      "7\n",
      "30\n"
     ]
    }
   ],
   "source": [
    "#Day65 \n",
    "#basic calculation using static methods\n",
    "\n",
    "class Calculator:\n",
    "    def __init__(self, value):\n",
    "        self.value = value\n",
    "\n",
    "    def subtraction(self, amount):\n",
    "        self.value = self.value - amount\n",
    "\n",
    "    @staticmethod\n",
    "    def multiply(x, y):\n",
    "        return x * y\n",
    "\n",
    "\n",
    "a = Calculator(10)\n",
    "print(a.value) \n",
    "\n",
    "a.subtraction(3)\n",
    "print(a.value)  \n",
    "\n",
    "print(Calculator.multiply(5, 6)) \n"
   ]
  },
  {
   "cell_type": "markdown",
   "id": "a413c1e6-c273-4521-ae4a-4cce5c30db8c",
   "metadata": {},
   "source": [
    "DAY 66 INSTANCES VS CLASS VARIABLES"
   ]
  },
  {
   "cell_type": "code",
   "execution_count": 18,
   "id": "967618e7-6640-4950-9091-45c4b4b2b774",
   "metadata": {},
   "outputs": [
    {
     "name": "stdout",
     "output_type": "stream",
     "text": [
      "The name of the Employee is Dua and the raise amount in no of 1 sized Google pakistan is 0.3\n",
      "Apple\n",
      "The name of the Employee is Sara and the raise amount in no of 2 sized Nestle Pakistan is 0.04\n"
     ]
    }
   ],
   "source": [
    "#DAY 66\n",
    "\n",
    "class Employee:\n",
    "  companyName = \"Google\"\n",
    "  noOfEmployees = 0\n",
    "  def __init__(self, name):\n",
    "    self.name = name\n",
    "    self.raise_amount = 0.04\n",
    "    Employee.noOfEmployees +=1\n",
    "  def showDetails(self):\n",
    "    print(f\"The name of the Employee is {self.name} and the raise amount in no of {self.noOfEmployees} sized {self.companyName} is {self.raise_amount}\")\n",
    "\n",
    "# Employee.showDetails(emp1)\n",
    "emp1 = Employee(\"Dua\")\n",
    "emp1.raise_amount = 0.3\n",
    "emp1.companyName = \"Google pakistan\" \n",
    "emp1.showDetails()\n",
    "\n",
    "Employee.companyName = \"Apple\"\n",
    "print(Employee.companyName)\n",
    "\n",
    "emp2 = Employee(\"Sara\")\n",
    "emp2.companyName = \"Nestle Pakistan\"\n",
    "emp2.showDetails()\n"
   ]
  },
  {
   "cell_type": "markdown",
   "id": "3642d786-2694-4314-8f40-b0cb483c0ba5",
   "metadata": {},
   "source": [
    "DAY 67 EXERCISE SOLUTION IS DONE ON DAY 64"
   ]
  },
  {
   "cell_type": "markdown",
   "id": "efae6911-a455-447a-9708-40e87d40aa38",
   "metadata": {},
   "source": [
    "DAY 68 EXERCISE SOLUTION"
   ]
  },
  {
   "cell_type": "code",
   "execution_count": 19,
   "id": "57d1c85c-5dfe-4521-9eb4-54fa5268b694",
   "metadata": {},
   "outputs": [
    {
     "ename": "FileNotFoundError",
     "evalue": "[WinError 3] The system cannot find the path specified: 'testday68'",
     "output_type": "error",
     "traceback": [
      "\u001b[1;31m---------------------------------------------------------------------------\u001b[0m",
      "\u001b[1;31mFileNotFoundError\u001b[0m                         Traceback (most recent call last)",
      "Cell \u001b[1;32mIn[19], line 7\u001b[0m\n\u001b[0;32m      2\u001b[0m \u001b[38;5;28;01mimport\u001b[39;00m \u001b[38;5;21;01mos\u001b[39;00m \u001b[38;5;66;03m#to import pics from the local\u001b[39;00m\n\u001b[0;32m      3\u001b[0m \u001b[38;5;66;03m#to rename the images in the folder, from 1 to n(number of images)\u001b[39;00m\n\u001b[0;32m      4\u001b[0m \u001b[38;5;66;03m#focusing on the png type images\u001b[39;00m\n\u001b[1;32m----> 7\u001b[0m images \u001b[38;5;241m=\u001b[39m \u001b[43mos\u001b[49m\u001b[38;5;241;43m.\u001b[39;49m\u001b[43mlistdir\u001b[49m\u001b[43m(\u001b[49m\u001b[38;5;124;43m\"\u001b[39;49m\u001b[38;5;124;43mtestday68\u001b[39;49m\u001b[38;5;124;43m\"\u001b[39;49m\u001b[43m)\u001b[49m\n\u001b[0;32m      8\u001b[0m i \u001b[38;5;241m=\u001b[39m \u001b[38;5;241m1\u001b[39m\n\u001b[0;32m      9\u001b[0m \u001b[38;5;28;01mfor\u001b[39;00m image \u001b[38;5;129;01min\u001b[39;00m images:\n",
      "\u001b[1;31mFileNotFoundError\u001b[0m: [WinError 3] The system cannot find the path specified: 'testday68'"
     ]
    }
   ],
   "source": [
    "#SOLUTION\n",
    "import os #to import pics from the local\n",
    "#to rename the images in the folder, from 1 to n(number of images)\n",
    "#focusing on the png type images\n",
    "\n",
    "\n",
    "images = os.listdir(\"testday68\")\n",
    "i = 1\n",
    "for image in images:\n",
    "  if image.endswith(\".png\"):\n",
    "    print(image)\n",
    "    os.rename(f\"testday68/{image}\", f\"testday68/{i}.png\")\n",
    "    i = i + 1\n",
    "\n",
    "#this will save the images name in asending order like , 1,2,3,4  names of images"
   ]
  },
  {
   "cell_type": "markdown",
   "id": "dfcd0293-0886-4ff0-a78a-644e759b1217",
   "metadata": {},
   "source": [
    "DAY 69 CLASS METHODS"
   ]
  },
  {
   "cell_type": "code",
   "execution_count": null,
   "id": "3b0a6e71-e7e7-4cf1-be66-21a23b8c34f8",
   "metadata": {},
   "outputs": [
    {
     "name": "stdout",
     "output_type": "stream",
     "text": [
      "Name: Dua e qirat, Organization: Samsung\n",
      "Name: Dua e qirat, Organization: Nokia\n",
      "Nokia\n"
     ]
    }
   ],
   "source": [
    "#DYA 69 \n",
    "#examples of class methods \n",
    "\n",
    "class Worker:\n",
    "    organization = \"Samsung\"\n",
    "\n",
    "    def display(self):\n",
    "        print(f\"Name: {self.full_name}, Organization: {self.organization}\")\n",
    "\n",
    "    @classmethod\n",
    "    def updateOrganization(cls, newOrganization):\n",
    "        cls.organization = newOrganization\n",
    "\n",
    "\n",
    "w1 = Worker()\n",
    "w1.full_name = \"Dua e qirat\"\n",
    "w1.display()\n",
    "w1.updateOrganization(\"Nokia\")\n",
    "w1.display()\n",
    "print(Worker.organization)\n"
   ]
  },
  {
   "cell_type": "markdown",
   "id": "fd3cb8c1-992c-4cef-96b3-01a15e0069ec",
   "metadata": {},
   "source": [
    "DAY 70 CLASS METHODS AS ALTERNATIVE CONSTRUCTORS"
   ]
  },
  {
   "cell_type": "code",
   "execution_count": null,
   "id": "8f590d8c-bd30-4e03-85fc-c17869418f32",
   "metadata": {},
   "outputs": [
    {
     "name": "stdout",
     "output_type": "stream",
     "text": [
      "Details of Class Employee\n",
      "Sara\n",
      "25000\n",
      "kainat\n",
      "30000\n",
      "Details of Class Person\n",
      "Dua 24\n"
     ]
    }
   ],
   "source": [
    "#day70\n",
    "#Creating the instances from the string\n",
    "\n",
    "class Employee:\n",
    "  def __init__(self, name, salary):\n",
    "    self.name = name \n",
    "    self.salary = salary\n",
    "    \n",
    "  @classmethod\n",
    "  def fromStr(cls, string):\n",
    "    return cls(string.split(\"-\")[0], int(string.split(\"-\")[1]))\n",
    "\n",
    "\n",
    "#using dash - to seperate the data fromt the string\n",
    "\n",
    "print(\"Details of Class Employee\")\n",
    "e1 = Employee(\"Sara\", 25000)\n",
    "print(e1.name)\n",
    "print(e1.salary)\n",
    "\n",
    "string = \"kainat-30000\"\n",
    "e2 = Employee.fromStr(string)\n",
    "print(e2.name)\n",
    "print(e2.salary)\n",
    "\n",
    "print(\"Details of Class Person\")\n",
    "\n",
    "class Person:\n",
    "    def __init__(self, name, age):\n",
    "        self.name = name\n",
    "        self.age = age\n",
    "\n",
    "    @classmethod\n",
    "    def from_string(cls, string):\n",
    "        name, age = string.split(',')\n",
    "        return cls(name, int(age))\n",
    "\n",
    "\n",
    "#using comma , to seperate the data fromt the string\n",
    "\n",
    "person = Person.from_string(\"Dua, 24\")\n",
    "print(person.name, person.age)"
   ]
  }
 ],
 "metadata": {
  "kernelspec": {
   "display_name": "Python 3 (ipykernel)",
   "language": "python",
   "name": "python3"
  },
  "language_info": {
   "codemirror_mode": {
    "name": "ipython",
    "version": 3
   },
   "file_extension": ".py",
   "mimetype": "text/x-python",
   "name": "python",
   "nbconvert_exporter": "python",
   "pygments_lexer": "ipython3",
   "version": "3.12.4"
  }
 },
 "nbformat": 4,
 "nbformat_minor": 5
}
