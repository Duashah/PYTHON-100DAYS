{
 "cells": [
  {
   "cell_type": "markdown",
   "metadata": {},
   "source": [
    "DAY 11\n",
    "STRINGS IN PYTHON\n"
   ]
  },
  {
   "cell_type": "code",
   "execution_count": null,
   "metadata": {},
   "outputs": [],
   "source": [
    "name = \"dua\"\n",
    "lname = \"shah\"\n",
    "myself = '''i am dua shah\n",
    "a computer system engineer\n",
    "work as intern in saincube'''\n",
    "# 3 single or double quotation mark can print multiple line code\n",
    "# so we can print multiple line code with using \\n \n",
    "\n",
    "print(name+lname)\n",
    "print(myself)\n",
    "\n",
    "# for length of stirng \n",
    "\n",
    "len1 = len(name)\n",
    "print(len1)\n",
    "len2 = len(lname)\n",
    "print(len2)\n",
    "len3 = len(myself)\n",
    "print(len3)\n",
    "\n",
    "# for index of stirng\n",
    "print(name[0])\n",
    "print(lname[2])\n",
    "print(myself[9])\n",
    "\n",
    "\n",
    "# but if the string is long so we use for loop\n",
    "for character in myself:\n",
    "  print(character)\n"
   ]
  },
  {
   "cell_type": "markdown",
   "metadata": {},
   "source": [
    "DAY 12 STIRNG SLICING AND OPERATIONS"
   ]
  },
  {
   "cell_type": "code",
   "execution_count": 30,
   "metadata": {},
   "outputs": [
    {
     "name": "stdout",
     "output_type": "stream",
     "text": [
      "d\n",
      "ha\n",
      " system engineer\n",
      "work as intern in sai\n",
      "du\n"
     ]
    }
   ],
   "source": [
    "name = \"dua\"\n",
    "lname = \"shah\"\n",
    "myself = '''i am dua shah\n",
    "a computer system engineer\n",
    "work as intern in saincube'''\n",
    "\n",
    "print(name[0])\n",
    "print(lname[1:3])\n",
    "print(myself[-43:-5])\n",
    "# print(myself[len(myself)-43:len(myself)-5]) above statemnet work like this\n",
    "print(name[:-1])"
   ]
  },
  {
   "cell_type": "markdown",
   "metadata": {},
   "source": [
    "DAY 13 STRING METHODS"
   ]
  },
  {
   "cell_type": "code",
   "execution_count": null,
   "metadata": {},
   "outputs": [],
   "source": [
    "\n",
    "a = \"!!!dua shah////!!!\"\n",
    "print(a.upper())\n",
    "print(a.lower())\n",
    "\n",
    "# print(a.rstrip(\"/\")) #its doesn't work\n",
    "print(a.rstrip(\"!\"))\n",
    "\n",
    "\n",
    "print(a.replace(\"dua\", \"dua e qirat\"))\n",
    "print(a.split(\" \")) #work as list \n",
    "\n",
    "b = \"days 11 20\"\n",
    "print(b.split())\n",
    "print(b.capitalize())\n",
    "\n",
    "wordfile = \"typing mIstake Or typing eRROr\"\n",
    "print(wordfile)\n",
    "print(wordfile.capitalize()) #sentence start with capital letter\n",
    "print(wordfile.count(\"typing\")) #number of typing in wordfile\n",
    "print(a.count(\"!\")) #number of ! in \"a\"\n",
    "\n",
    "print(b.center(30))\n",
    "print(wordfile.center(50))\n",
    "\n",
    "print(a.endswith(\"!!\"))\n",
    "print(b.endswith(\"2\"))\n",
    "print(wordfile.endswith(\"error\"))\n",
    "print(wordfile.endswith(\"eRROr\"))\n",
    "\n",
    "newstr = \"Its all about strings 65\"\n",
    "print(newstr.endswith(\"ab\", 4, 9))\n",
    "print(newstr.endswith(\"all\", 2, 7))\n",
    "# newstr.endswith(\"ab\", 4, 9) means in newstr \"ab\" ends between 4 to 9 index thats false beacuse its end at 10\n",
    "\n",
    "print(newstr.find('all')) #find used to find the index of first letter of word\n",
    "print(wordfile.find('mistake')) #its output is -1 beacuse mistake not found\n",
    "print(wordfile.find('mIstake')) #7\n",
    "print(newstr.index('all')) # same as find\n",
    "\n",
    "print(wordfile.isalnum()) #having A-Z, a-z, 0-9 word and numbers \n",
    "print(newstr.isalnum())\n",
    "\n",
    "str1 = \"GoWithFLow\"\n",
    "str2 = \"IamOK23\"\n",
    "print(str1.isalnum())\n",
    "print(str2.isalnum())\n",
    "print(str1.isalpha()) #having A-Z, a-z words\n",
    "print(str2.isalpha())\n",
    "\n",
    "print(str1.islower())\n",
    "print(b.islower())\n",
    "\n",
    "print(str2.isprintable())\n",
    "print(wordfile.isprintable())\n",
    "\n",
    "str3 = \"ok \\n\"\n",
    "print(str3.isprintable())\n",
    "\n",
    "print(a.istitle())\n",
    "print(str1.istitle())\n",
    "\n",
    "str4 = \"Another New Topic\"\n",
    "print(str4.istitle())\n",
    "print(newstr.istitle())\n",
    "print(newstr.title())\n",
    "\n",
    "print(b.istitle())\n",
    "print(b.title())\n",
    "print(str1.title())\n",
    "\n",
    "print(wordfile.swapcase())\n",
    "print(str1.swapcase())\n",
    "\n",
    "print(a.startswith('dua'))\n",
    "print(newstr.startswith(\"Its\"))\n",
    "\n",
    "\n",
    "\n",
    "\n",
    "\n"
   ]
  },
  {
   "cell_type": "markdown",
   "metadata": {},
   "source": [
    "DAY 14 IF ELSE STATEMENT"
   ]
  },
  {
   "cell_type": "code",
   "execution_count": 272,
   "metadata": {},
   "outputs": [
    {
     "name": "stdout",
     "output_type": "stream",
     "text": [
      "82\n",
      "recently read it\n"
     ]
    }
   ],
   "source": [
    "# if else statement\n",
    "# a = int(input(\"enter any number: \"))\n",
    "# print(a)\n",
    "\n",
    "# if (a >= 18):\n",
    "#  print(\"you are eligible for admission\")\n",
    "# else:\n",
    "#  print(\"you are not eligible\")\n",
    "\n",
    "\n",
    "\n",
    " #elif statemnet\n",
    "# str = int(input(\"enter page number of book which book i recently read\"))\n",
    "# print(str)\n",
    "\n",
    "# if (str > 99):\n",
    "#  print(\"i will read it\")\n",
    "\n",
    "# elif (str == 98):\n",
    "#  print(\"i am exactly on it\")\n",
    "\n",
    "# else :\n",
    "#  print(\"i already read it\")\n",
    "\n",
    "\n",
    "\n",
    "#  nested statement\n",
    "num = int(input(\"enter page number of book which book i recently read\"))\n",
    "print(num)\n",
    "\n",
    "if (num == 99):\n",
    " print(\"i am on it\")\n",
    "\n",
    "elif (num <= 98):\n",
    "    if( num <= 80 ):\n",
    "     print(\"i already read it\")\n",
    "    elif(num >= 81 or num ==98):\n",
    "      print(\"recently read it\")\n",
    "    else:\n",
    "      print(\"its going\")\n",
    " \n",
    "elif (num > 200):\n",
    "  print(\"there is no page\")\n",
    "else :\n",
    " print(\"i will read it\")\n",
    "\n",
    "\n",
    "\n",
    "\n",
    "\n"
   ]
  },
  {
   "cell_type": "markdown",
   "metadata": {},
   "source": [
    "Day 15 task for if else statement"
   ]
  },
  {
   "cell_type": "code",
   "execution_count": 283,
   "metadata": {},
   "outputs": [
    {
     "name": "stdout",
     "output_type": "stream",
     "text": [
      "18:39:17\n",
      "Good evening\n"
     ]
    }
   ],
   "source": [
    "import time \n",
    "timestamp = time.strftime('%H:%M:%S')\n",
    "print(timestamp)\n",
    "hour = int(time.strftime('%H'))\n",
    "Month = int(time.strftime('%M'))\n",
    "Second = int(time.strftime('%S'))\n",
    "\n",
    "# Above code was given but the if else code written by myself\n",
    "\n",
    "if (hour >=5 and hour <= 11): #here and use for logical operator\n",
    " print(\"Good morning\")\n",
    "\n",
    "elif (hour >= 12 and hour <= 17):\n",
    "  print(\"Good afternoon\")\n",
    "elif(hour >= 18 and hour <= 21):\n",
    "  print(\"Good evening\")\n",
    "\n",
    "else:\n",
    " print(\"Good night\")\n"
   ]
  },
  {
   "cell_type": "markdown",
   "metadata": {},
   "source": [
    "DAY 16 MATCH CASE"
   ]
  },
  {
   "cell_type": "code",
   "execution_count": 297,
   "metadata": {},
   "outputs": [
    {
     "name": "stdout",
     "output_type": "stream",
     "text": [
      "34\n",
      "the number is less then or equal to 99\n",
      "both\n"
     ]
    }
   ],
   "source": [
    "num = int(input(\"enter any number\"))\n",
    "print(num)\n",
    "\n",
    "match num:\n",
    "    case 100:\n",
    "        print(\"the number is \", 100)\n",
    "    case _ if num <=99:\n",
    "        print(\"the number is less then or equal to\",99)\n",
    "    case _ if num > 101 and num <=200:\n",
    "        print(\"the number lies between 101 and 200\")\n",
    "    case _:\n",
    "        print(\"more numbers\")\n",
    "\n",
    "\n",
    "fruit = input(\"write any fruit name\")\n",
    "\n",
    "match fruit:\n",
    "    case 'apple':\n",
    "        print(\"the color of \",fruit, \"is red\")\n",
    "    case 'banana':\n",
    "        print(\"the color of \",fruit, \"is yellow\")\n",
    "    case _:\n",
    "        print(\"both\")\n",
    "\n",
    "\n",
    "\n",
    "\n"
   ]
  },
  {
   "cell_type": "markdown",
   "metadata": {},
   "source": [
    "DAY 17 FOR LOOP"
   ]
  },
  {
   "cell_type": "code",
   "execution_count": null,
   "metadata": {},
   "outputs": [],
   "source": [
    "#  FOR STRING\n",
    "\n",
    "a = \"i'm dua shah\"\n",
    "for i in a:\n",
    "   print(i)\n",
    "   if(i == \"m\"):\n",
    "      print(\"first name\")\n",
    "\n",
    "\n",
    "#  for list, tuple etc\n",
    "\n",
    "# lists = [\"fruits\", \"vegetable\", \"accessories\", \"boxes\"]\n",
    "# for list in lists:\n",
    "#    print(list)\n",
    "#    for i in list:\n",
    "#       print(i)\n",
    "\n",
    "tuple = {\"firstname\", \"lastname\", \"age\", \"bio\"}\n",
    "for character in tuple:\n",
    "   print(character)\n",
    "   if (character == \"firstname\"):\n",
    "      print(\"its must be in start\")\n",
    "\n",
    "\n",
    "# forcounting \n",
    "\n",
    "# for k in range(1, 500):\n",
    "#    print (k)\n",
    "\n",
    "for k in range(10):\n",
    "  print(\"5 X\" , k+1, \"=\" ,5*(k+1))\n",
    "\n",
    "# for num in range(1, 1001):\n",
    "#     print(num)\n",
    "\n"
   ]
  },
  {
   "cell_type": "markdown",
   "metadata": {},
   "source": [
    "DAY 18 WHILE LOOP"
   ]
  },
  {
   "cell_type": "code",
   "execution_count": null,
   "metadata": {},
   "outputs": [],
   "source": [
    "\n",
    "# num = 0\n",
    "# while(num < 89):\n",
    "#   print(num)\n",
    "#   num =num + 1\n",
    "\n",
    "\n",
    "\n",
    "# count = 1\n",
    "# while (count <100):\n",
    "#   print(count)\n",
    "#   count = count + 2\n",
    "\n",
    "# print(\"end\")\n",
    " \n",
    "# while with else\n",
    "\n",
    "\n",
    "i = int(input(\"enter any number\"))\n",
    "while ( i >=23 ):\n",
    "    i = int(input(\"enter any number\"))\n",
    "    print(i)\n",
    "    i = i - 1\n",
    "else:\n",
    "    print(\"program is end\")\n"
   ]
  },
  {
   "cell_type": "markdown",
   "metadata": {},
   "source": [
    "DAY 19 BREAK AND CONTINUE"
   ]
  },
  {
   "cell_type": "code",
   "execution_count": null,
   "metadata": {},
   "outputs": [],
   "source": [
    "# break loop\n",
    "\n",
    "for i in range(12):\n",
    "    if (i == 10):\n",
    "     break\n",
    "    print(\"7 X\",i+1, \"=\", 7*i+1) # loop is end or break\n",
    "\n",
    "# continue \n",
    "\n",
    "for k in range(21):\n",
    "   if (k < 11):\n",
    "    continue\n",
    "   print(\"3 X\", k, \"=\", 3*k) # iteration is skip"
   ]
  },
  {
   "cell_type": "markdown",
   "metadata": {},
   "source": [
    "DAY 20 FUNCTIONS IN PYTHON"
   ]
  },
  {
   "cell_type": "code",
   "execution_count": null,
   "metadata": {},
   "outputs": [],
   "source": [
    "def calculateGmean(a, b):\n",
    "  mean = (a*b)/(a+b)\n",
    "  print(mean)\n",
    "\n",
    "def isGreater(a, b):\n",
    "  if(a>b):\n",
    "    print(\"First number is greater\")\n",
    "  else:\n",
    "    print(\"Second number is greater or equal\")\n",
    "\n",
    "def isLesser(a, b):\n",
    "  pass\n",
    "  \n",
    "\n",
    "a = 9\n",
    "b = 8\n",
    "isGreater(a, b)\n",
    "calculateGmean(a, b)\n",
    "# gmean1 = (a*b)/(a+b)\n",
    "# print(gmean1)\n",
    "c = 8\n",
    "d = 74\n",
    "isGreater(c, d)\n",
    "calculateGmean(c, d)\n",
    "# gmean2 = (c*d)/(c+d)"
   ]
  }
 ],
 "metadata": {
  "kernelspec": {
   "display_name": "Python 3",
   "language": "python",
   "name": "python3"
  },
  "language_info": {
   "codemirror_mode": {
    "name": "ipython",
    "version": 3
   },
   "file_extension": ".py",
   "mimetype": "text/x-python",
   "name": "python",
   "nbconvert_exporter": "python",
   "pygments_lexer": "ipython3",
   "version": "3.12.4"
  }
 },
 "nbformat": 4,
 "nbformat_minor": 2
}
