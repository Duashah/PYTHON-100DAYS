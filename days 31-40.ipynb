{
 "cells": [
  {
   "cell_type": "markdown",
   "metadata": {},
   "source": [
    "DAY 31 SETS"
   ]
  },
  {
   "cell_type": "code",
   "execution_count": 12,
   "metadata": {},
   "outputs": [
    {
     "name": "stdout",
     "output_type": "stream",
     "text": [
      "{None, True, 5, 6.7, 'value', 'dua shah'}\n",
      "<class 'set'>\n",
      "None\n",
      "True\n",
      "5\n",
      "6.7\n",
      "value\n",
      "dua shah\n"
     ]
    }
   ],
   "source": [
    "# sets does not print repeated values and sets does not maintain order\n",
    "# for example\n",
    "\n",
    "list ={\"value\", 5 , \"dua shah\", 5, 6.7, True, None, True}\n",
    "print(list)\n",
    "print(type(list))\n",
    "\n",
    "# empty set\n",
    "\n",
    "# emptyset = set()\n",
    "# print(type(emptyset))\n",
    "\n",
    "\n",
    "# set = {}\n",
    "# print(type(set))    #its dict datatype\n",
    "\n",
    "# accessing set values\n",
    "\n",
    "for i in list:\n",
    "    print(i)\n",
    "\n"
   ]
  },
  {
   "cell_type": "markdown",
   "metadata": {},
   "source": [
    "DAY 32 METHODS IN SETS"
   ]
  },
  {
   "cell_type": "code",
   "execution_count": null,
   "metadata": {},
   "outputs": [],
   "source": [
    "# union set\n",
    "\n",
    "set1 = {2, 3, 5, 7, 8}\n",
    "set2 = {1, 2, 3, 4, 6, 9}\n",
    "set3 = set1.union(set2)\n",
    "print(set3)\n",
    "\n",
    "# # intersection and intersection_update\n",
    "\n",
    "set4 = set2.intersection(set1)\n",
    "print(set4)\n",
    "\n",
    "# set2.intersection_update(set3)\n",
    "# print(set2)\n",
    "\n",
    "# difference and difference_update\n",
    "set5 = set1.difference(set2)\n",
    "print(set5)\n",
    "\n",
    "# set6 = set2.difference_update(set1)\n",
    "# print(set6)\n",
    "\n",
    "# symmetric_difference\n",
    "set6=set1.symmetric_difference(set2)\n",
    "print(set6)\n",
    "\n",
    "for i in set1:\n",
    "    print(i)\n",
    "\n",
    "#  add elements in set\n",
    "\n",
    "set2.add(8)\n",
    "print(set2)\n",
    "\n",
    "# remove/discard element\n",
    "\n",
    "set1.remove(7)\n",
    "print(set1)\n",
    "\n",
    "# set2.remove(7)\n",
    "# print(set2)    #its give error beacuse remove give keyerror when element not in list\n",
    "\n",
    "set2.discard(7)\n",
    "print(set2)     #its is unlike remove datatype \n",
    "\n",
    "set2.discard(8)\n",
    "print(set2)\n",
    "\n",
    "# clear() its use to clear sets\n",
    "\n",
    "set1.clear()\n",
    "print(set1)\n",
    "\n",
    "# pop() its pop any element from list \n",
    "set8 = set2.pop()\n",
    "print(set8)\n",
    "\n",
    "if 7 in set1:\n",
    "    print(\"yes\")\n",
    "else:\n",
    "    print(\"no\")"
   ]
  },
  {
   "cell_type": "markdown",
   "metadata": {},
   "source": [
    "DAY 33 DICTIONARIES"
   ]
  },
  {
   "cell_type": "code",
   "execution_count": null,
   "metadata": {},
   "outputs": [],
   "source": [
    "bio = {\n",
    " \"name\": \"Dua shah\",\n",
    " \"Age\": 24,\n",
    " \"Education\": \"graduated\",\n",
    " \"F/name\": \"Syed amir shah\",\n",
    " \"nationality\": \"pakistani\"\n",
    "}\n",
    "\n",
    "# print(bio.get(\"Education\"))\n",
    "# print(bio[\"name\"])\n",
    "# print(bio.keys())\n",
    "# print(bio.values())\n",
    "\n",
    "for key, value in bio.items():\n",
    "    print(f\"the {key} is {value} \")\n",
    "    # print(bio[key])\n",
    "\n",
    "# or\n",
    "\n",
    "print(bio.values())\n"
   ]
  },
  {
   "cell_type": "markdown",
   "metadata": {},
   "source": [
    "DAY 34 DICT METHODS"
   ]
  },
  {
   "cell_type": "code",
   "execution_count": 115,
   "metadata": {},
   "outputs": [
    {
     "name": "stdout",
     "output_type": "stream",
     "text": [
      "{'name': 'Dua shah', 'Age': 24, 'Education': 'graduated', 'F/name': 'Syed amir shah', 'nationality': 'pakistani', 'Email': 'shahdua111@gmail.com', 'city': 'hyd'}\n",
      "24\n",
      "{'name': 'Dua shah', 'Education': 'graduated', 'F/name': 'Syed amir shah', 'nationality': 'pakistani', 'Email': 'shahdua111@gmail.com', 'city': 'hyd'}\n",
      "None\n",
      "{'name': 'Dua shah', 'Education': 'graduated', 'F/name': 'Syed amir shah', 'nationality': 'pakistani', 'Email': 'shahdua111@gmail.com', 'city': 'hyd', 'day': 34}\n",
      "dict_keys(['name', 'Education', 'F/name', 'nationality', 'Email', 'city', 'day'])\n",
      "{}\n"
     ]
    }
   ],
   "source": [
    "bio = {\n",
    " \"name\": \"Dua shah\",\n",
    " \"Age\": 24,\n",
    " \"Education\": \"graduated\",\n",
    " \"F/name\": \"Syed amir shah\",\n",
    " \"nationality\": \"pakistani\",\n",
    " \"Email\": \"shahdua111@gmail.com\"\n",
    "}\n",
    "\n",
    "\n",
    "# adding or updating\n",
    "bio[\"city\"] = \"hyd\"\n",
    "print(bio)  \n",
    "\n",
    "# Removing elements\n",
    "removed_value = bio.pop(\"Age\")\n",
    "print(removed_value) \n",
    "print(bio) \n",
    "print(bio.update({\"day\": 34}))\n",
    "print(bio)\n",
    "\n",
    "# print(bio.get(\"day\", 34))\n",
    "\n",
    "\n",
    "key = (bio.keys())\n",
    "print(key)\n",
    "\n",
    "bio.clear()\n",
    "print(bio)"
   ]
  },
  {
   "cell_type": "markdown",
   "metadata": {},
   "source": [
    "DAY 35 FOR LOOP WITH ELSE"
   ]
  },
  {
   "cell_type": "code",
   "execution_count": 12,
   "metadata": {},
   "outputs": [
    {
     "name": "stdout",
     "output_type": "stream",
     "text": [
      "0\n",
      "1\n",
      "2\n",
      "3\n",
      "x cant found!\n",
      "gg not found in the list.\n"
     ]
    }
   ],
   "source": [
    "# for x in range(4):\n",
    "#     print(x)\n",
    "# else: \n",
    "#     print(\"x cant found!\")\n",
    "\n",
    "for x in range(4):\n",
    "    print(x)\n",
    "    if x >= 4:\n",
    "        break\n",
    "else: \n",
    "    print(\"x cant found!\")\n",
    "\n",
    "\n",
    "\n",
    "\n",
    "\n",
    "students_name = [\"dua\", \"fiza\", \"hiba\", \"huda\", \"zara\", \"zareen\", \"fatima\",\n",
    "                 \"fazia\", \"filza\", \"areeba\", \"yumna\", \"mahreen\"]\n",
    "\n",
    "search_name = input()\n",
    "\n",
    "for name in students_name:\n",
    "    if name == search_name:\n",
    "        print(f\"{search_name} found!\")\n",
    "        break\n",
    "else:\n",
    "    print(f\"{search_name} not found in the list.\")\n",
    "\n",
    "\n",
    "\n"
   ]
  },
  {
   "cell_type": "markdown",
   "metadata": {},
   "source": [
    "DAY 36 EXPECTATION HANDLING"
   ]
  },
  {
   "cell_type": "code",
   "execution_count": 14,
   "metadata": {},
   "outputs": [
    {
     "name": "stdout",
     "output_type": "stream",
     "text": [
      "there is some error\n",
      "name 'y' is not defined\n",
      "dua found!\n"
     ]
    }
   ],
   "source": [
    "try:\n",
    "  for x in range(4):\n",
    "    print(y)   #here is error \n",
    "    if x >= 4:\n",
    "        break\n",
    "  else: \n",
    "    print(\"x cant found!\")\n",
    "except Exception as e:\n",
    " print(\"there is some error\")\n",
    " print(e)\n",
    "\n",
    "\n",
    "\n",
    "\n",
    "\n",
    "students_name = [\"dua\", \"fiza\", \"hiba\", \"huda\", \"zara\", \"zareen\", \"fatima\",\n",
    "                 \"fazia\", \"filza\", \"areeba\", \"yumna\", \"mahreen\"]\n",
    "\n",
    "search_name = input()\n",
    "\n",
    "for name in students_name:\n",
    "    if name == search_name:\n",
    "        print(f\"{search_name} found!\")\n",
    "        break\n",
    "else:\n",
    "    print(f\"{search_name} not found in the list.\")\n",
    "\n",
    "\n"
   ]
  },
  {
   "cell_type": "markdown",
   "metadata": {},
   "source": [
    "DAY 37 FINALLY KEYWORD\n"
   ]
  },
  {
   "cell_type": "code",
   "execution_count": 1,
   "metadata": {},
   "outputs": [
    {
     "name": "stdout",
     "output_type": "stream",
     "text": [
      "The result of division is: 0.6071428571428571\n",
      "Execution completed.\n"
     ]
    }
   ],
   "source": [
    "try:\n",
    "    # Code that may raise exceptions\n",
    "    num1 = int(input(\"Enter a number: \"))\n",
    "    num2 = int(input(\"Enter another number: \"))\n",
    "    \n",
    "    result = num1 / num2\n",
    "    \n",
    "except ZeroDivisionError:\n",
    "    print(\"Error: Division by zero!\")\n",
    "    \n",
    "except ValueError:\n",
    "    print(\"Error: Invalid input! Please enter a valid number.\")\n",
    "    \n",
    "else:\n",
    "    print(f\"The result of division is: {result}\")\n",
    "    \n",
    "finally:\n",
    "    print(\"Execution completed.\")  # Optional block, executes no matter what"
   ]
  },
  {
   "cell_type": "markdown",
   "metadata": {},
   "source": [
    "DAY 38 CUSTOM ERROR"
   ]
  },
  {
   "cell_type": "code",
   "execution_count": 5,
   "metadata": {},
   "outputs": [
    {
     "name": "stdout",
     "output_type": "stream",
     "text": [
      "Your age is: 45\n",
      "Execution completed.\n"
     ]
    }
   ],
   "source": [
    "\n",
    "def validate_age(age):\n",
    "    if age < 0 or age > 120:\n",
    "        raise error(\"Invalid age entered!\")\n",
    "\n",
    "# Example: Using the custom exception in a function\n",
    "try:\n",
    "    age = int(input(\"Enter your age: \"))\n",
    "    validate_age(age)\n",
    "    print(f\"Your age is: {age}\")\n",
    "\n",
    "except ValueError:\n",
    "    print(\"Error: Invalid input! Please enter a valid number.\")\n",
    "\n",
    "except error as e:\n",
    "    print(f\"Custom Error: {e}\")\n",
    "\n",
    "finally:\n",
    "    print(\"Execution completed.\")"
   ]
  },
  {
   "cell_type": "markdown",
   "metadata": {},
   "source": [
    "DAY 29 KBC GAME SOLUTION"
   ]
  },
  {
   "cell_type": "markdown",
   "metadata": {},
   "source": [
    "DAY 40 encoding decoding excercise "
   ]
  },
  {
   "cell_type": "code",
   "execution_count": null,
   "metadata": {},
   "outputs": [],
   "source": [
    "# i cant get it at that point"
   ]
  }
 ],
 "metadata": {
  "kernelspec": {
   "display_name": "Python 3",
   "language": "python",
   "name": "python3"
  },
  "language_info": {
   "codemirror_mode": {
    "name": "ipython",
    "version": 3
   },
   "file_extension": ".py",
   "mimetype": "text/x-python",
   "name": "python",
   "nbconvert_exporter": "python",
   "pygments_lexer": "ipython3",
   "version": "3.12.4"
  }
 },
 "nbformat": 4,
 "nbformat_minor": 2
}
